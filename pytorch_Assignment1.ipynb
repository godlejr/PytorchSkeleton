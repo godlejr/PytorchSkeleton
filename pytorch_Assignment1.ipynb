{
  "nbformat": 4,
  "nbformat_minor": 0,
  "metadata": {
    "colab": {
      "name": "pytorch_Assignment1.ipynb",
      "provenance": [],
      "collapsed_sections": [],
      "include_colab_link": true
    },
    "kernelspec": {
      "display_name": "Python (comet2)",
      "language": "python",
      "name": "comet2"
    },
    "language_info": {
      "codemirror_mode": {
        "name": "ipython",
        "version": 3
      },
      "file_extension": ".py",
      "mimetype": "text/x-python",
      "name": "python",
      "nbconvert_exporter": "python",
      "pygments_lexer": "ipython3",
      "version": "3.6.7"
    }
  },
  "cells": [
    {
      "cell_type": "markdown",
      "metadata": {
        "id": "view-in-github",
        "colab_type": "text"
      },
      "source": [
        "<a href=\"https://colab.research.google.com/github/godlejr/PytorchSkeleton/blob/main/pytorch_Assignment1.ipynb\" target=\"_parent\"><img src=\"https://colab.research.google.com/assets/colab-badge.svg\" alt=\"Open In Colab\"/></a>"
      ]
    },
    {
      "cell_type": "markdown",
      "metadata": {
        "id": "1tRH_4lblbf6"
      },
      "source": [
        "### Install Pytorch 1.0 (For Google Colab)"
      ]
    },
    {
      "cell_type": "code",
      "metadata": {
        "id": "5smYHPgclbf7",
        "colab": {
          "base_uri": "https://localhost:8080/"
        },
        "outputId": "dcf9accc-38f6-4e70-cf7e-5a05a7aa10fd"
      },
      "source": [
        "#구글 Colab에서 실행할 때는 이 주석을 해제하시고 실행해서 pytorch 1.0을 깔아주세요!\n",
        "!pip install -q torch==1.0.0 torchvision\n",
        "import torch\n"
      ],
      "execution_count": null,
      "outputs": [
        {
          "output_type": "stream",
          "name": "stdout",
          "text": [
            "\u001b[K     |████████████████████████████████| 591.8 MB 646 bytes/s \n",
            "\u001b[K     |████████████████████████████████| 23.3 MB 13.2 MB/s \n",
            "\u001b[K     |████████████████████████████████| 22.1 MB 1.4 MB/s \n",
            "\u001b[K     |████████████████████████████████| 22.1 MB 72.4 MB/s \n",
            "\u001b[K     |████████████████████████████████| 17.4 MB 126 kB/s \n",
            "\u001b[K     |████████████████████████████████| 17.3 MB 14 kB/s \n",
            "\u001b[K     |████████████████████████████████| 12.8 MB 23 kB/s \n",
            "\u001b[K     |████████████████████████████████| 12.7 MB 95 kB/s \n",
            "\u001b[K     |████████████████████████████████| 11.8 MB 18.8 MB/s \n",
            "\u001b[K     |████████████████████████████████| 5.9 MB 10.7 MB/s \n",
            "\u001b[K     |████████████████████████████████| 6.6 MB 41.8 MB/s \n",
            "\u001b[K     |████████████████████████████████| 6.6 MB 41.8 MB/s \n",
            "\u001b[K     |████████████████████████████████| 4.0 MB 46.0 MB/s \n",
            "\u001b[K     |████████████████████████████████| 10.2 MB 61.2 MB/s \n",
            "\u001b[K     |████████████████████████████████| 10.1 MB 14.6 MB/s \n",
            "\u001b[K     |████████████████████████████████| 8.8 MB 109 kB/s \n",
            "\u001b[K     |████████████████████████████████| 2.6 MB 58.9 MB/s \n",
            "\u001b[K     |████████████████████████████████| 64 kB 2.5 MB/s \n",
            "\u001b[31mERROR: pip's dependency resolver does not currently take into account all the packages that are installed. This behaviour is the source of the following dependency conflicts.\n",
            "torchtext 0.10.0 requires torch==1.9.0, but you have torch 1.0.0 which is incompatible.\u001b[0m\n",
            "\u001b[?25h"
          ]
        }
      ]
    },
    {
      "cell_type": "markdown",
      "metadata": {
        "id": "23sQEXhSfY4I"
      },
      "source": [
        "### 1. Data Preparation"
      ]
    },
    {
      "cell_type": "markdown",
      "metadata": {
        "id": "dOlz_-7Plbf9"
      },
      "source": [
        "**Data Set**  \n",
        "$$X_{train} \\in \\mathcal{R}^{50000 \\times 784}, Y_{train} \\in \\mathcal{Z}^{50000}$$  \n",
        "$$X_{val} \\in \\mathcal{R}^{10000 \\times 784}, Y_{val} \\in \\mathcal{Z}^{10000}$$  \n",
        "$$X_{test} \\in \\mathcal{R}^{10000 \\times 784}, Y_{test} \\in \\mathcal{Z}^{10000}$$"
      ]
    },
    {
      "cell_type": "code",
      "metadata": {
        "id": "UI6KvTC_lbf-",
        "colab": {
          "base_uri": "https://localhost:8080/"
        },
        "outputId": "8d86a2bb-cc4f-496b-a580-44cf3f16658f"
      },
      "source": [
        "import torch\n",
        "from torchvision import datasets, transforms\n",
        "import torch.nn as nn\n",
        "\n",
        "\n",
        "batch_size = 128\n",
        "train_dataset = datasets.MNIST('./data', train=True, download=True,\n",
        "                   transform=transforms.Compose([\n",
        "                       transforms.ToTensor(),\n",
        "                       transforms.Normalize((0.1307,), (0.3081,))\n",
        "                   ]))\n",
        "test_dataset =  datasets.MNIST('./data', train=False, download=True,\n",
        "                   transform=transforms.Compose([\n",
        "                       transforms.ToTensor(),\n",
        "                       transforms.Normalize((0.1307,), (0.3081,))\n",
        "                   ]))\n",
        "train_dataset, val_dataset = torch.utils.data.random_split(train_dataset, [50000, 10000])\n",
        "print(len(train_dataset), len(val_dataset), len(test_dataset))\n",
        "\n",
        "train_loader = torch.utils.data.DataLoader(train_dataset, batch_size=128, shuffle=True)\n",
        "val_loader = torch.utils.data.DataLoader(val_dataset, batch_size=128, shuffle=False)\n",
        "test_loader = torch.utils.data.DataLoader(test_dataset, batch_size=128, shuffle=False)"
      ],
      "execution_count": null,
      "outputs": [
        {
          "output_type": "stream",
          "name": "stdout",
          "text": [
            "50000 10000 10000\n"
          ]
        }
      ]
    },
    {
      "cell_type": "markdown",
      "metadata": {
        "id": "J242EKs3lbgB"
      },
      "source": [
        "### Inspecting Dataset"
      ]
    },
    {
      "cell_type": "code",
      "metadata": {
        "id": "kaGi5_BllbgC",
        "colab": {
          "base_uri": "https://localhost:8080/",
          "height": 416
        },
        "outputId": "a7409bab-566a-498c-a0fd-c0dc6b3157dd"
      },
      "source": [
        "examples = enumerate(train_loader)\n",
        "batch_idx, (example_data, example_targets) = next(examples)  \n",
        "\n",
        "import matplotlib.pyplot as plt\n",
        "\n",
        "fig = plt.figure(figsize=(15, 9))\n",
        "for i in range(6):\n",
        "    plt.subplot(2,3,i+1)\n",
        "    plt.tight_layout()\n",
        "    plt.imshow(example_data[i][0], cmap='gray', interpolation='none')\n",
        "    plt.title(\"Ground Truth: {}\".format(example_targets[i]))\n",
        "plt.show()"
      ],
      "execution_count": null,
      "outputs": [
        {
          "output_type": "display_data",
          "data": {
            "image/png": "[encoded data removed]",
            "text/plain": [
              "<Figure size 1080x648 with 6 Axes>"
            ]
          },
          "metadata": {
            "needs_background": "light"
          }
        }
      ]
    },
    {
      "cell_type": "markdown",
      "metadata": {
        "id": "lEqtbTROlXuB"
      },
      "source": [
        "### 2. Model Architecture"
      ]
    },
    {
      "cell_type": "code",
      "metadata": {
        "id": "40ht43Q1JpYI"
      },
      "source": [
        "\n",
        "class LinearModel(nn.Module):\n",
        "    def __init__(self): \n",
        "        super(LinearModel, self).__init__()\n",
        "        self.linear = nn.Linear(in_features=784, out_features=10, bias=True)\n",
        "    \n",
        "    def forward(self, x):\n",
        "        x = self.linear(x)\n",
        "        return x\n",
        "\n",
        "class MLPModel(nn.Module):\n",
        "    def __init__(self,in_dim, out_dim, hid_unit, hid_layer_count):  \n",
        "        super(MLPModel, self).__init__()\n",
        "        self.linear1 = nn.Linear(in_features=in_dim,out_features=hid_unit)\n",
        "        self.hidden = nn.ModuleList()\n",
        "\n",
        "        for i in range(hid_layer_count):\n",
        "            self.hidden.append(nn.Linear(in_features=hid_unit,out_features=hid_unit))\n",
        "\n",
        "        self.linear2 = nn.Linear(in_features=hid_unit,out_features=out_dim)\n",
        "        self.relu = nn.ReLU()\n",
        "\n",
        "    def forward(self,x):\n",
        "      x = self.relu(self.linear1(x))\n",
        "\n",
        "      for layer in self.hidden:\n",
        "        x = self.relu(layer(x))\n",
        "      x = self.linear2(x)\n",
        "      return x"
      ],
      "execution_count": null,
      "outputs": []
    },
    {
      "cell_type": "markdown",
      "metadata": {
        "id": "FgdSvskSotgI"
      },
      "source": [
        "### 3. Cost Function Define (Loss Function Define)  "
      ]
    },
    {
      "cell_type": "code",
      "metadata": {
        "id": "H30jqt9arEpy"
      },
      "source": [
        ""
      ],
      "execution_count": null,
      "outputs": []
    },
    {
      "cell_type": "code",
      "metadata": {
        "id": "yzNkZ_uwnufC"
      },
      "source": [
        "cls_loss = nn.CrossEntropyLoss()"
      ],
      "execution_count": null,
      "outputs": []
    },
    {
      "cell_type": "markdown",
      "metadata": {
        "id": "cqGbJCGIlbgu"
      },
      "source": [
        "### 4. Train & Evaluation"
      ]
    },
    {
      "cell_type": "code",
      "metadata": {
        "scrolled": false,
        "id": "5dd6tO7_lbgv",
        "colab": {
          "base_uri": "https://localhost:8080/"
        },
        "outputId": "d6260466-79ac-497a-9cd0-52453ec86c72"
      },
      "source": [
        "import torch.optim as optim\n",
        "from sklearn.metrics import accuracy_score\n",
        "\n",
        "# ====== Construct Model ====== #\n",
        "model = MLPModel(784,10,100,5)\n",
        "print('Number of {} parameters'.format(sum(p.numel() for p in model.parameters() if p.requires_grad)))\n",
        "\n",
        "# ===== Construct Optimizer ====== #\n",
        "lr = 0.005 \n",
        "optimizer = optim.SGD(model.parameters(), lr=lr) \n",
        "\n",
        "list_epoch = [] \n",
        "list_train_loss = []\n",
        "list_val_loss = []\n",
        "list_acc = []\n",
        "list_acc_epoch = []\n",
        "\n",
        "epoch = 30\n",
        "for i in range(epoch):\n",
        "    \n",
        "    # ====== Train ====== #\n",
        "    train_loss = 0\n",
        "    model.train() \n",
        "    \n",
        "    for input_X, true_y in train_loader:\n",
        "        optimizer.zero_grad() # [21.01.05 오류 수정] 매 Epoch 마다 .zero_grad()가 실행되는 것을 매 iteration 마다 실행되도록 수정했습니다. \n",
        "\n",
        "        input_X = input_X.squeeze()\n",
        "\n",
        "        input_X = input_X.view(-1, 784)\n",
        "        pred_y = model(input_X)\n",
        "\n",
        "        loss = cls_loss(pred_y.squeeze(), true_y)\n",
        "        loss.backward() \n",
        "        optimizer.step() \n",
        "        train_loss += loss.detach().numpy()\n",
        "\n",
        "    train_loss = train_loss / len(train_loader)\n",
        "    list_train_loss.append(train_loss)\n",
        "    list_epoch.append(i)\n",
        "    \n",
        "    \n",
        "    # ====== Validation ====== #\n",
        "    val_loss = 0\n",
        "    model.eval()\n",
        "    # optimizer.zero_grad() [21.01.05 코드 클린업] 아래 torch.no_grad()가 호출되고 Validation 과정에서는 Optimizer를 사용하지 않으므로 굳이 호출될 필요가 없습니다. \n",
        "    \n",
        "\"\"\"멘토링때 질문  \n",
        "with torch.no_grad() 함수에서\n",
        "  cls_loss 부분에서 batch 에러가 나는데 기대한 배치가 80 타겟이 128\n",
        "  이부분이 왜 에러가 나는 지 리뷰필요\n",
        "  이걸 지우면(val loss) 잘 돌아간다...\n",
        "\"\"\"\n",
        "\n",
        "    # with torch.no_grad(): # [21.01.05 코드 클린업] Validation 과정에서 그라디언트가 활용되지 않도록 torch.no_grad() statement 안에서 코드를 실행합니다.\n",
        "    #     for input_X, true_y in val_loader:\n",
        "    #         input_X = input_X.squeeze()\n",
        "    #         input_X = input_X.view(-1, 784)\n",
        "\n",
        "    #         loss = cls_loss(pred_y.squeeze(), true_y)\n",
        "    #         val_loss += loss.detach().numpy()\n",
        "    #     val_loss = val_loss / len(val_loader)\n",
        "    #     list_val_loss.append(val_loss)\n",
        "\n",
        "\n",
        "    # ====== Evaluation ======= #\n",
        "    correct = 0\n",
        "    model.eval()\n",
        "    # optimizer.zero_grad() [21.01.05 코드 클린업] 아래 torch.no_grad()가 호출되고 Evaluation 과정에서는 Optimizer를 사용하지 않으므로 굳이 호출될 필요가 없습니다. \n",
        "\n",
        "    with torch.no_grad(): # [21.01.05 코드 클린업] Evaluation 과정에서 그라디언트가 활용되지 않도록 torch.no_grad() statement 안에서 코드를 실행합니다.\n",
        "        for input_X, true_y in test_loader:\n",
        "            input_X = input_X.squeeze()\n",
        "            input_X = input_X.view(-1, 784)\n",
        "            pred_y = model(input_X).max(1, keepdim=True)[1].squeeze()\n",
        "            correct += pred_y.eq(true_y).sum()\n",
        "\n",
        "        acc = correct.numpy() / len(test_loader.dataset)\n",
        "        list_acc.append(acc)\n",
        "        list_acc_epoch.append(i)\n",
        "    \n",
        "    print('Epoch: {}, Train Loss: {}, Val Loss: {}, Test Acc: {}%'.format(i, train_loss, val_loss, acc*100))"
      ],
      "execution_count": null,
      "outputs": [
        {
          "output_type": "stream",
          "name": "stdout",
          "text": [
            "Number of 130010 parameters\n",
            "Epoch: 0, Train Loss: 2.3050009722599896, Val Loss: 0, Test Acc: 12.72%\n",
            "Epoch: 1, Train Loss: 2.302560695296968, Val Loss: 0, Test Acc: 11.35%\n",
            "Epoch: 2, Train Loss: 2.3007696729791745, Val Loss: 0, Test Acc: 11.35%\n",
            "Epoch: 3, Train Loss: 2.2991846156547138, Val Loss: 0, Test Acc: 11.35%\n",
            "Epoch: 4, Train Loss: 2.2973637660141186, Val Loss: 0, Test Acc: 11.35%\n",
            "Epoch: 5, Train Loss: 2.2946117296243265, Val Loss: 0, Test Acc: 11.35%\n",
            "Epoch: 6, Train Loss: 2.289701942897514, Val Loss: 0, Test Acc: 13.62%\n",
            "Epoch: 7, Train Loss: 2.2789517448991155, Val Loss: 0, Test Acc: 20.03%\n",
            "Epoch: 8, Train Loss: 2.245293681883751, Val Loss: 0, Test Acc: 20.74%\n",
            "Epoch: 9, Train Loss: 2.1129574336664145, Val Loss: 0, Test Acc: 20.96%\n",
            "Epoch: 10, Train Loss: 1.9432859606755055, Val Loss: 0, Test Acc: 24.12%\n",
            "Epoch: 11, Train Loss: 1.754750060913203, Val Loss: 0, Test Acc: 31.61%\n",
            "Epoch: 12, Train Loss: 1.5697500163027087, Val Loss: 0, Test Acc: 49.04%\n",
            "Epoch: 13, Train Loss: 1.301500659921895, Val Loss: 0, Test Acc: 67.95%\n",
            "Epoch: 14, Train Loss: 0.9360121372715592, Val Loss: 0, Test Acc: 73.31%\n",
            "Epoch: 15, Train Loss: 0.7728838872574174, Val Loss: 0, Test Acc: 76.5%\n",
            "Epoch: 16, Train Loss: 0.6700084596643667, Val Loss: 0, Test Acc: 81.67999999999999%\n",
            "Epoch: 17, Train Loss: 0.5675363540649414, Val Loss: 0, Test Acc: 84.27%\n",
            "Epoch: 18, Train Loss: 0.474548082217536, Val Loss: 0, Test Acc: 85.50999999999999%\n",
            "Epoch: 19, Train Loss: 0.41453400303793075, Val Loss: 0, Test Acc: 88.53999999999999%\n",
            "Epoch: 20, Train Loss: 0.3736004641903636, Val Loss: 0, Test Acc: 89.77000000000001%\n",
            "Epoch: 21, Train Loss: 0.3415223315472493, Val Loss: 0, Test Acc: 90.36999999999999%\n",
            "Epoch: 22, Train Loss: 0.3142073137680893, Val Loss: 0, Test Acc: 90.10000000000001%\n",
            "Epoch: 23, Train Loss: 0.29094072196947035, Val Loss: 0, Test Acc: 91.75%\n",
            "Epoch: 24, Train Loss: 0.2697090760940481, Val Loss: 0, Test Acc: 91.93%\n",
            "Epoch: 25, Train Loss: 0.25220795846579935, Val Loss: 0, Test Acc: 92.73%\n",
            "Epoch: 26, Train Loss: 0.2349871484291218, Val Loss: 0, Test Acc: 92.86999999999999%\n",
            "Epoch: 27, Train Loss: 0.22036836948007574, Val Loss: 0, Test Acc: 93.2%\n",
            "Epoch: 28, Train Loss: 0.20741073482329278, Val Loss: 0, Test Acc: 93.44%\n",
            "Epoch: 29, Train Loss: 0.1948842541564761, Val Loss: 0, Test Acc: 93.4%\n"
          ]
        }
      ]
    },
    {
      "cell_type": "markdown",
      "metadata": {
        "id": "TZixor_dlbgz"
      },
      "source": [
        "### 5. Report Experiment  "
      ]
    },
    {
      "cell_type": "code",
      "metadata": {
        "scrolled": true,
        "id": "s1Ol9akZlbg1",
        "colab": {
          "base_uri": "https://localhost:8080/",
          "height": 253
        },
        "outputId": "4cb1bdd0-8c3c-4ccb-8703-d86a75461c99"
      },
      "source": [
        "fig = plt.figure(figsize=(15,5))\n",
        "\n",
        "# ====== Loss Fluctuation ====== #\n",
        "ax1 = fig.add_subplot(1, 2, 1)\n",
        "ax1.plot(list_epoch, list_train_loss, label='train_loss')\n",
        "#ax1.plot(list_epoch, list_val_loss, '--', label='val_loss')\n",
        "ax1.set_xlabel('epoch')\n",
        "ax1.set_ylabel('loss')\n",
        "ax1.grid()\n",
        "ax1.legend()\n",
        "ax1.set_title('epoch vs loss')\n",
        "\n",
        "# ====== Metric Fluctuation ====== #\n",
        "ax2 = fig.add_subplot(1, 2, 2)\n",
        "ax2.plot(list_acc_epoch, list_acc, marker='x', label='Accuracy metric')\n",
        "ax2.set_xlabel('epoch')\n",
        "ax2.set_ylabel('Acc')\n",
        "ax2.grid()\n",
        "ax2.legend()\n",
        "ax2.set_title('epoch vs Accuracy')\n",
        "\n",
        "plt.show()"
      ],
      "execution_count": null,
      "outputs": [
        {
          "output_type": "display_data",
          "data": {
            "image/png": "[encoded data removed]",
            "text/plain": [
              "<Figure size 1080x360 with 2 Axes>"
            ]
          },
          "metadata": {
            "needs_background": "light"
          }
        }
      ]
    },
    {
      "cell_type": "code",
      "metadata": {
        "id": "3ElVouvTmBmS"
      },
      "source": [
        ""
      ],
      "execution_count": null,
      "outputs": []
    }
  ]
}