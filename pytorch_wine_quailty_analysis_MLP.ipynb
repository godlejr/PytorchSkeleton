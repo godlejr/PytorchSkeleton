{
  "nbformat": 4,
  "nbformat_minor": 0,
  "metadata": {
    "accelerator": "GPU",
    "colab": {
      "name": "pytorch_wine_quailty_analysis_MLP.ipynb",
      "provenance": [],
      "collapsed_sections": [],
      "include_colab_link": true
    },
    "kernelspec": {
      "display_name": "Python (comet2)",
      "language": "python",
      "name": "comet2"
    },
    "language_info": {
      "codemirror_mode": {
        "name": "ipython",
        "version": 3
      },
      "file_extension": ".py",
      "mimetype": "text/x-python",
      "name": "python",
      "nbconvert_exporter": "python",
      "pygments_lexer": "ipython3",
      "version": "3.6.7"
    }
  },
  "cells": [
    {
      "cell_type": "markdown",
      "metadata": {
        "id": "view-in-github",
        "colab_type": "text"
      },
      "source": [
        "<a href=\"https://colab.research.google.com/github/godlejr/PytorchSkeleton/blob/main/pytorch_wine_quailty_analysis_MLP.ipynb\" target=\"_parent\"><img src=\"https://colab.research.google.com/assets/colab-badge.svg\" alt=\"Open In Colab\"/></a>"
      ]
    },
    {
      "cell_type": "code",
      "metadata": {
        "colab": {
          "base_uri": "https://localhost:8080/"
        },
        "id": "N5R6SZEeURAT",
        "outputId": "a343e534-6ff4-4754-e6d3-4e02c5f7ff40"
      },
      "source": [
        "from google.colab import drive\n",
        "drive.mount('/content/drive')"
      ],
      "execution_count": null,
      "outputs": [
        {
          "output_type": "stream",
          "name": "stdout",
          "text": [
            "Mounted at /content/drive\n"
          ]
        }
      ]
    },
    {
      "cell_type": "markdown",
      "metadata": {
        "id": "23sQEXhSfY4I"
      },
      "source": [
        "### 1. Data Preparation"
      ]
    },
    {
      "cell_type": "code",
      "metadata": {
        "id": "0fR6klIQLK1c"
      },
      "source": [
        "import torch\n",
        "from torchvision import datasets, transforms\n",
        "import torch.nn as nn\n",
        "from torch.utils.data import DataLoader, Dataset      # 데이터를 모델에 사용할 수 있게 정리해주는 라이브러리.\n",
        "import torch.nn.functional as F                       # torch 내의 세부적인 기능을 불러옴.\n",
        "\n",
        "from sklearn.preprocessing import MinMaxScaler        #스케일러\n",
        "\n",
        "import pandas as pd\n",
        "import lightgbm as lgbm"
      ],
      "execution_count": null,
      "outputs": []
    },
    {
      "cell_type": "code",
      "metadata": {
        "id": "NcwyiSW4LS3U"
      },
      "source": [
        "train = pd.read_csv('/content/drive/MyDrive/동주/한화시스템/ATP/와인분류/train.csv')\n",
        "test = pd.read_csv('/content/drive/MyDrive/동주/한화시스템/ATP/와인분류/test.csv')\n"
      ],
      "execution_count": null,
      "outputs": []
    },
    {
      "cell_type": "code",
      "metadata": {
        "colab": {
          "base_uri": "https://localhost:8080/",
          "height": 238
        },
        "id": "lPYE8BffLfvJ",
        "outputId": "a4f475c0-c584-4146-b448-c15ef1f9c0cd"
      },
      "source": [
        "train.head()\n"
      ],
      "execution_count": null,
      "outputs": [
        {
          "output_type": "execute_result",
          "data": {
            "text/html": [
              "<div>\n",
              "<style scoped>\n",
              "    .dataframe tbody tr th:only-of-type {\n",
              "        vertical-align: middle;\n",
              "    }\n",
              "\n",
              "    .dataframe tbody tr th {\n",
              "        vertical-align: top;\n",
              "    }\n",
              "\n",
              "    .dataframe thead th {\n",
              "        text-align: right;\n",
              "    }\n",
              "</style>\n",
              "<table border=\"1\" class=\"dataframe\">\n",
              "  <thead>\n",
              "    <tr style=\"text-align: right;\">\n",
              "      <th></th>\n",
              "      <th>index</th>\n",
              "      <th>quality</th>\n",
              "      <th>fixed acidity</th>\n",
              "      <th>volatile acidity</th>\n",
              "      <th>citric acid</th>\n",
              "      <th>residual sugar</th>\n",
              "      <th>chlorides</th>\n",
              "      <th>free sulfur dioxide</th>\n",
              "      <th>total sulfur dioxide</th>\n",
              "      <th>density</th>\n",
              "      <th>pH</th>\n",
              "      <th>sulphates</th>\n",
              "      <th>alcohol</th>\n",
              "      <th>type</th>\n",
              "    </tr>\n",
              "  </thead>\n",
              "  <tbody>\n",
              "    <tr>\n",
              "      <th>0</th>\n",
              "      <td>0</td>\n",
              "      <td>5</td>\n",
              "      <td>5.6</td>\n",
              "      <td>0.695</td>\n",
              "      <td>0.06</td>\n",
              "      <td>6.8</td>\n",
              "      <td>0.042</td>\n",
              "      <td>9.0</td>\n",
              "      <td>84.0</td>\n",
              "      <td>0.99432</td>\n",
              "      <td>3.44</td>\n",
              "      <td>0.44</td>\n",
              "      <td>10.2</td>\n",
              "      <td>white</td>\n",
              "    </tr>\n",
              "    <tr>\n",
              "      <th>1</th>\n",
              "      <td>1</td>\n",
              "      <td>5</td>\n",
              "      <td>8.8</td>\n",
              "      <td>0.610</td>\n",
              "      <td>0.14</td>\n",
              "      <td>2.4</td>\n",
              "      <td>0.067</td>\n",
              "      <td>10.0</td>\n",
              "      <td>42.0</td>\n",
              "      <td>0.99690</td>\n",
              "      <td>3.19</td>\n",
              "      <td>0.59</td>\n",
              "      <td>9.5</td>\n",
              "      <td>red</td>\n",
              "    </tr>\n",
              "    <tr>\n",
              "      <th>2</th>\n",
              "      <td>2</td>\n",
              "      <td>5</td>\n",
              "      <td>7.9</td>\n",
              "      <td>0.210</td>\n",
              "      <td>0.39</td>\n",
              "      <td>2.0</td>\n",
              "      <td>0.057</td>\n",
              "      <td>21.0</td>\n",
              "      <td>138.0</td>\n",
              "      <td>0.99176</td>\n",
              "      <td>3.05</td>\n",
              "      <td>0.52</td>\n",
              "      <td>10.9</td>\n",
              "      <td>white</td>\n",
              "    </tr>\n",
              "    <tr>\n",
              "      <th>3</th>\n",
              "      <td>3</td>\n",
              "      <td>6</td>\n",
              "      <td>7.0</td>\n",
              "      <td>0.210</td>\n",
              "      <td>0.31</td>\n",
              "      <td>6.0</td>\n",
              "      <td>0.046</td>\n",
              "      <td>29.0</td>\n",
              "      <td>108.0</td>\n",
              "      <td>0.99390</td>\n",
              "      <td>3.26</td>\n",
              "      <td>0.50</td>\n",
              "      <td>10.8</td>\n",
              "      <td>white</td>\n",
              "    </tr>\n",
              "    <tr>\n",
              "      <th>4</th>\n",
              "      <td>4</td>\n",
              "      <td>6</td>\n",
              "      <td>7.8</td>\n",
              "      <td>0.400</td>\n",
              "      <td>0.26</td>\n",
              "      <td>9.5</td>\n",
              "      <td>0.059</td>\n",
              "      <td>32.0</td>\n",
              "      <td>178.0</td>\n",
              "      <td>0.99550</td>\n",
              "      <td>3.04</td>\n",
              "      <td>0.43</td>\n",
              "      <td>10.9</td>\n",
              "      <td>white</td>\n",
              "    </tr>\n",
              "  </tbody>\n",
              "</table>\n",
              "</div>"
            ],
            "text/plain": [
              "   index  quality  fixed acidity  ...  sulphates  alcohol   type\n",
              "0      0        5            5.6  ...       0.44     10.2  white\n",
              "1      1        5            8.8  ...       0.59      9.5    red\n",
              "2      2        5            7.9  ...       0.52     10.9  white\n",
              "3      3        6            7.0  ...       0.50     10.8  white\n",
              "4      4        6            7.8  ...       0.43     10.9  white\n",
              "\n",
              "[5 rows x 14 columns]"
            ]
          },
          "metadata": {},
          "execution_count": 238
        }
      ]
    },
    {
      "cell_type": "code",
      "metadata": {
        "colab": {
          "base_uri": "https://localhost:8080/",
          "height": 221
        },
        "id": "SThOn0oLLg4r",
        "outputId": "18dd5f21-9b2c-48d5-ae8d-1e0f93342659"
      },
      "source": [
        "test.head()\n"
      ],
      "execution_count": null,
      "outputs": [
        {
          "output_type": "execute_result",
          "data": {
            "text/html": [
              "<div>\n",
              "<style scoped>\n",
              "    .dataframe tbody tr th:only-of-type {\n",
              "        vertical-align: middle;\n",
              "    }\n",
              "\n",
              "    .dataframe tbody tr th {\n",
              "        vertical-align: top;\n",
              "    }\n",
              "\n",
              "    .dataframe thead th {\n",
              "        text-align: right;\n",
              "    }\n",
              "</style>\n",
              "<table border=\"1\" class=\"dataframe\">\n",
              "  <thead>\n",
              "    <tr style=\"text-align: right;\">\n",
              "      <th></th>\n",
              "      <th>index</th>\n",
              "      <th>fixed acidity</th>\n",
              "      <th>volatile acidity</th>\n",
              "      <th>citric acid</th>\n",
              "      <th>residual sugar</th>\n",
              "      <th>chlorides</th>\n",
              "      <th>free sulfur dioxide</th>\n",
              "      <th>total sulfur dioxide</th>\n",
              "      <th>density</th>\n",
              "      <th>pH</th>\n",
              "      <th>sulphates</th>\n",
              "      <th>alcohol</th>\n",
              "      <th>type</th>\n",
              "    </tr>\n",
              "  </thead>\n",
              "  <tbody>\n",
              "    <tr>\n",
              "      <th>0</th>\n",
              "      <td>0</td>\n",
              "      <td>9.0</td>\n",
              "      <td>0.31</td>\n",
              "      <td>0.48</td>\n",
              "      <td>6.6</td>\n",
              "      <td>0.043</td>\n",
              "      <td>11.0</td>\n",
              "      <td>73.0</td>\n",
              "      <td>0.99380</td>\n",
              "      <td>2.90</td>\n",
              "      <td>0.38</td>\n",
              "      <td>11.6</td>\n",
              "      <td>white</td>\n",
              "    </tr>\n",
              "    <tr>\n",
              "      <th>1</th>\n",
              "      <td>1</td>\n",
              "      <td>13.3</td>\n",
              "      <td>0.43</td>\n",
              "      <td>0.58</td>\n",
              "      <td>1.9</td>\n",
              "      <td>0.070</td>\n",
              "      <td>15.0</td>\n",
              "      <td>40.0</td>\n",
              "      <td>1.00040</td>\n",
              "      <td>3.06</td>\n",
              "      <td>0.49</td>\n",
              "      <td>9.0</td>\n",
              "      <td>red</td>\n",
              "    </tr>\n",
              "    <tr>\n",
              "      <th>2</th>\n",
              "      <td>2</td>\n",
              "      <td>6.5</td>\n",
              "      <td>0.28</td>\n",
              "      <td>0.27</td>\n",
              "      <td>5.2</td>\n",
              "      <td>0.040</td>\n",
              "      <td>44.0</td>\n",
              "      <td>179.0</td>\n",
              "      <td>0.99480</td>\n",
              "      <td>3.19</td>\n",
              "      <td>0.69</td>\n",
              "      <td>9.4</td>\n",
              "      <td>white</td>\n",
              "    </tr>\n",
              "    <tr>\n",
              "      <th>3</th>\n",
              "      <td>3</td>\n",
              "      <td>7.2</td>\n",
              "      <td>0.15</td>\n",
              "      <td>0.39</td>\n",
              "      <td>1.8</td>\n",
              "      <td>0.043</td>\n",
              "      <td>21.0</td>\n",
              "      <td>159.0</td>\n",
              "      <td>0.99480</td>\n",
              "      <td>3.52</td>\n",
              "      <td>0.47</td>\n",
              "      <td>10.0</td>\n",
              "      <td>white</td>\n",
              "    </tr>\n",
              "    <tr>\n",
              "      <th>4</th>\n",
              "      <td>4</td>\n",
              "      <td>6.8</td>\n",
              "      <td>0.26</td>\n",
              "      <td>0.26</td>\n",
              "      <td>2.0</td>\n",
              "      <td>0.019</td>\n",
              "      <td>23.5</td>\n",
              "      <td>72.0</td>\n",
              "      <td>0.99041</td>\n",
              "      <td>3.16</td>\n",
              "      <td>0.47</td>\n",
              "      <td>11.8</td>\n",
              "      <td>white</td>\n",
              "    </tr>\n",
              "  </tbody>\n",
              "</table>\n",
              "</div>"
            ],
            "text/plain": [
              "   index  fixed acidity  volatile acidity  ...  sulphates  alcohol   type\n",
              "0      0            9.0              0.31  ...       0.38     11.6  white\n",
              "1      1           13.3              0.43  ...       0.49      9.0    red\n",
              "2      2            6.5              0.28  ...       0.69      9.4  white\n",
              "3      3            7.2              0.15  ...       0.47     10.0  white\n",
              "4      4            6.8              0.26  ...       0.47     11.8  white\n",
              "\n",
              "[5 rows x 13 columns]"
            ]
          },
          "metadata": {},
          "execution_count": 239
        }
      ]
    },
    {
      "cell_type": "code",
      "metadata": {
        "id": "1kH209ajLktv"
      },
      "source": [
        "# type에는 white와 red 두 종류가 있습니다.\n",
        "# 각각 0,1로 변환합니다.\n",
        "train['type'] = train['type'].map({'white':0, 'red':1}).astype(int)\n",
        "test['type'] = test['type'].map({'white':0, 'red':1}).astype(int)\n"
      ],
      "execution_count": null,
      "outputs": []
    },
    {
      "cell_type": "code",
      "metadata": {
        "colab": {
          "base_uri": "https://localhost:8080/",
          "height": 238
        },
        "id": "0J_sPzXcLoGV",
        "outputId": "476b9cd6-0998-458c-cf94-ae87f8a1e34f"
      },
      "source": [
        "train.head()\n"
      ],
      "execution_count": null,
      "outputs": [
        {
          "output_type": "execute_result",
          "data": {
            "text/html": [
              "<div>\n",
              "<style scoped>\n",
              "    .dataframe tbody tr th:only-of-type {\n",
              "        vertical-align: middle;\n",
              "    }\n",
              "\n",
              "    .dataframe tbody tr th {\n",
              "        vertical-align: top;\n",
              "    }\n",
              "\n",
              "    .dataframe thead th {\n",
              "        text-align: right;\n",
              "    }\n",
              "</style>\n",
              "<table border=\"1\" class=\"dataframe\">\n",
              "  <thead>\n",
              "    <tr style=\"text-align: right;\">\n",
              "      <th></th>\n",
              "      <th>index</th>\n",
              "      <th>quality</th>\n",
              "      <th>fixed acidity</th>\n",
              "      <th>volatile acidity</th>\n",
              "      <th>citric acid</th>\n",
              "      <th>residual sugar</th>\n",
              "      <th>chlorides</th>\n",
              "      <th>free sulfur dioxide</th>\n",
              "      <th>total sulfur dioxide</th>\n",
              "      <th>density</th>\n",
              "      <th>pH</th>\n",
              "      <th>sulphates</th>\n",
              "      <th>alcohol</th>\n",
              "      <th>type</th>\n",
              "    </tr>\n",
              "  </thead>\n",
              "  <tbody>\n",
              "    <tr>\n",
              "      <th>0</th>\n",
              "      <td>0</td>\n",
              "      <td>5</td>\n",
              "      <td>5.6</td>\n",
              "      <td>0.695</td>\n",
              "      <td>0.06</td>\n",
              "      <td>6.8</td>\n",
              "      <td>0.042</td>\n",
              "      <td>9.0</td>\n",
              "      <td>84.0</td>\n",
              "      <td>0.99432</td>\n",
              "      <td>3.44</td>\n",
              "      <td>0.44</td>\n",
              "      <td>10.2</td>\n",
              "      <td>0</td>\n",
              "    </tr>\n",
              "    <tr>\n",
              "      <th>1</th>\n",
              "      <td>1</td>\n",
              "      <td>5</td>\n",
              "      <td>8.8</td>\n",
              "      <td>0.610</td>\n",
              "      <td>0.14</td>\n",
              "      <td>2.4</td>\n",
              "      <td>0.067</td>\n",
              "      <td>10.0</td>\n",
              "      <td>42.0</td>\n",
              "      <td>0.99690</td>\n",
              "      <td>3.19</td>\n",
              "      <td>0.59</td>\n",
              "      <td>9.5</td>\n",
              "      <td>1</td>\n",
              "    </tr>\n",
              "    <tr>\n",
              "      <th>2</th>\n",
              "      <td>2</td>\n",
              "      <td>5</td>\n",
              "      <td>7.9</td>\n",
              "      <td>0.210</td>\n",
              "      <td>0.39</td>\n",
              "      <td>2.0</td>\n",
              "      <td>0.057</td>\n",
              "      <td>21.0</td>\n",
              "      <td>138.0</td>\n",
              "      <td>0.99176</td>\n",
              "      <td>3.05</td>\n",
              "      <td>0.52</td>\n",
              "      <td>10.9</td>\n",
              "      <td>0</td>\n",
              "    </tr>\n",
              "    <tr>\n",
              "      <th>3</th>\n",
              "      <td>3</td>\n",
              "      <td>6</td>\n",
              "      <td>7.0</td>\n",
              "      <td>0.210</td>\n",
              "      <td>0.31</td>\n",
              "      <td>6.0</td>\n",
              "      <td>0.046</td>\n",
              "      <td>29.0</td>\n",
              "      <td>108.0</td>\n",
              "      <td>0.99390</td>\n",
              "      <td>3.26</td>\n",
              "      <td>0.50</td>\n",
              "      <td>10.8</td>\n",
              "      <td>0</td>\n",
              "    </tr>\n",
              "    <tr>\n",
              "      <th>4</th>\n",
              "      <td>4</td>\n",
              "      <td>6</td>\n",
              "      <td>7.8</td>\n",
              "      <td>0.400</td>\n",
              "      <td>0.26</td>\n",
              "      <td>9.5</td>\n",
              "      <td>0.059</td>\n",
              "      <td>32.0</td>\n",
              "      <td>178.0</td>\n",
              "      <td>0.99550</td>\n",
              "      <td>3.04</td>\n",
              "      <td>0.43</td>\n",
              "      <td>10.9</td>\n",
              "      <td>0</td>\n",
              "    </tr>\n",
              "  </tbody>\n",
              "</table>\n",
              "</div>"
            ],
            "text/plain": [
              "   index  quality  fixed acidity  ...  sulphates  alcohol  type\n",
              "0      0        5            5.6  ...       0.44     10.2     0\n",
              "1      1        5            8.8  ...       0.59      9.5     1\n",
              "2      2        5            7.9  ...       0.52     10.9     0\n",
              "3      3        6            7.0  ...       0.50     10.8     0\n",
              "4      4        6            7.8  ...       0.43     10.9     0\n",
              "\n",
              "[5 rows x 14 columns]"
            ]
          },
          "metadata": {},
          "execution_count": 7
        }
      ]
    },
    {
      "cell_type": "code",
      "metadata": {
        "colab": {
          "base_uri": "https://localhost:8080/",
          "height": 221
        },
        "id": "KTAtgdpHLpcW",
        "outputId": "92c901e4-a511-413c-e88a-034620ff5345"
      },
      "source": [
        "test.head()\n"
      ],
      "execution_count": null,
      "outputs": [
        {
          "output_type": "execute_result",
          "data": {
            "text/html": [
              "<div>\n",
              "<style scoped>\n",
              "    .dataframe tbody tr th:only-of-type {\n",
              "        vertical-align: middle;\n",
              "    }\n",
              "\n",
              "    .dataframe tbody tr th {\n",
              "        vertical-align: top;\n",
              "    }\n",
              "\n",
              "    .dataframe thead th {\n",
              "        text-align: right;\n",
              "    }\n",
              "</style>\n",
              "<table border=\"1\" class=\"dataframe\">\n",
              "  <thead>\n",
              "    <tr style=\"text-align: right;\">\n",
              "      <th></th>\n",
              "      <th>index</th>\n",
              "      <th>fixed acidity</th>\n",
              "      <th>volatile acidity</th>\n",
              "      <th>citric acid</th>\n",
              "      <th>residual sugar</th>\n",
              "      <th>chlorides</th>\n",
              "      <th>free sulfur dioxide</th>\n",
              "      <th>total sulfur dioxide</th>\n",
              "      <th>density</th>\n",
              "      <th>pH</th>\n",
              "      <th>sulphates</th>\n",
              "      <th>alcohol</th>\n",
              "      <th>type</th>\n",
              "    </tr>\n",
              "  </thead>\n",
              "  <tbody>\n",
              "    <tr>\n",
              "      <th>0</th>\n",
              "      <td>0</td>\n",
              "      <td>9.0</td>\n",
              "      <td>0.31</td>\n",
              "      <td>0.48</td>\n",
              "      <td>6.6</td>\n",
              "      <td>0.043</td>\n",
              "      <td>11.0</td>\n",
              "      <td>73.0</td>\n",
              "      <td>0.99380</td>\n",
              "      <td>2.90</td>\n",
              "      <td>0.38</td>\n",
              "      <td>11.6</td>\n",
              "      <td>0</td>\n",
              "    </tr>\n",
              "    <tr>\n",
              "      <th>1</th>\n",
              "      <td>1</td>\n",
              "      <td>13.3</td>\n",
              "      <td>0.43</td>\n",
              "      <td>0.58</td>\n",
              "      <td>1.9</td>\n",
              "      <td>0.070</td>\n",
              "      <td>15.0</td>\n",
              "      <td>40.0</td>\n",
              "      <td>1.00040</td>\n",
              "      <td>3.06</td>\n",
              "      <td>0.49</td>\n",
              "      <td>9.0</td>\n",
              "      <td>1</td>\n",
              "    </tr>\n",
              "    <tr>\n",
              "      <th>2</th>\n",
              "      <td>2</td>\n",
              "      <td>6.5</td>\n",
              "      <td>0.28</td>\n",
              "      <td>0.27</td>\n",
              "      <td>5.2</td>\n",
              "      <td>0.040</td>\n",
              "      <td>44.0</td>\n",
              "      <td>179.0</td>\n",
              "      <td>0.99480</td>\n",
              "      <td>3.19</td>\n",
              "      <td>0.69</td>\n",
              "      <td>9.4</td>\n",
              "      <td>0</td>\n",
              "    </tr>\n",
              "    <tr>\n",
              "      <th>3</th>\n",
              "      <td>3</td>\n",
              "      <td>7.2</td>\n",
              "      <td>0.15</td>\n",
              "      <td>0.39</td>\n",
              "      <td>1.8</td>\n",
              "      <td>0.043</td>\n",
              "      <td>21.0</td>\n",
              "      <td>159.0</td>\n",
              "      <td>0.99480</td>\n",
              "      <td>3.52</td>\n",
              "      <td>0.47</td>\n",
              "      <td>10.0</td>\n",
              "      <td>0</td>\n",
              "    </tr>\n",
              "    <tr>\n",
              "      <th>4</th>\n",
              "      <td>4</td>\n",
              "      <td>6.8</td>\n",
              "      <td>0.26</td>\n",
              "      <td>0.26</td>\n",
              "      <td>2.0</td>\n",
              "      <td>0.019</td>\n",
              "      <td>23.5</td>\n",
              "      <td>72.0</td>\n",
              "      <td>0.99041</td>\n",
              "      <td>3.16</td>\n",
              "      <td>0.47</td>\n",
              "      <td>11.8</td>\n",
              "      <td>0</td>\n",
              "    </tr>\n",
              "  </tbody>\n",
              "</table>\n",
              "</div>"
            ],
            "text/plain": [
              "   index  fixed acidity  volatile acidity  ...  sulphates  alcohol  type\n",
              "0      0            9.0              0.31  ...       0.38     11.6     0\n",
              "1      1           13.3              0.43  ...       0.49      9.0     1\n",
              "2      2            6.5              0.28  ...       0.69      9.4     0\n",
              "3      3            7.2              0.15  ...       0.47     10.0     0\n",
              "4      4            6.8              0.26  ...       0.47     11.8     0\n",
              "\n",
              "[5 rows x 13 columns]"
            ]
          },
          "metadata": {},
          "execution_count": 242
        }
      ]
    },
    {
      "cell_type": "code",
      "metadata": {
        "id": "edNCDPW_MHOA"
      },
      "source": [
        "# 모델에 입력하기 전 데이터를 정형합니다.\n",
        "\n",
        "train_x = train.drop(['index', 'quality'], axis = 1).to_numpy()\n",
        "train_y = train['quality'].to_numpy().reshape((-1,1))\n",
        "test_x = test.drop('index', axis = 1).to_numpy()"
      ],
      "execution_count": null,
      "outputs": []
    },
    {
      "cell_type": "code",
      "metadata": {
        "id": "OGfN3LwTNU6b"
      },
      "source": [
        "scaler = MinMaxScaler() \n",
        "scaler.fit(train_x) \n",
        "train_x = scaler.transform(train_x)\n",
        "\n",
        "# scaler.fit(train_y)\n",
        "# train_y = scaler.transform(train_y)\n",
        "\n",
        "scaler.fit(test_x)\n",
        "test_x = scaler.transform(test_x)"
      ],
      "execution_count": null,
      "outputs": []
    },
    {
      "cell_type": "code",
      "metadata": {
        "colab": {
          "base_uri": "https://localhost:8080/"
        },
        "id": "xPNibIb9NAW6",
        "outputId": "b10cda47-74c3-4ad0-a987-d451f44e5e29"
      },
      "source": [
        "train_x.shape, train_y.shape, test_x.shape\n"
      ],
      "execution_count": null,
      "outputs": [
        {
          "output_type": "execute_result",
          "data": {
            "text/plain": [
              "((5497, 12), (5497, 1), (1000, 12))"
            ]
          },
          "metadata": {},
          "execution_count": 10
        }
      ]
    },
    {
      "cell_type": "code",
      "metadata": {
        "id": "LlgAJqIPMIQ6"
      },
      "source": [
        "class TensorData(Dataset):\n",
        "\n",
        "    def __init__(self,x_data, y_data):\n",
        "        self.x_data = x_data\n",
        "        self.y_data = y_data\n",
        "        self.len = self.y_data.shape[0]\n",
        "\n",
        "    def __getitem__(self, index):\n",
        "\n",
        "        return self.x_data[index], self.y_data[index] \n",
        "\n",
        "    def __len__(self):\n",
        "        return self.len\n"
      ],
      "execution_count": null,
      "outputs": []
    },
    {
      "cell_type": "code",
      "metadata": {
        "colab": {
          "base_uri": "https://localhost:8080/"
        },
        "id": "UI6KvTC_lbf-",
        "outputId": "32f5501a-542c-49a7-d098-2a4c0347c583"
      },
      "source": [
        "\n",
        "\n",
        "train_x = torch.from_numpy(train_x).float()\n",
        "train_y = torch.from_numpy(train_y).long()\n",
        "\n",
        "batch_size = 128\n",
        "train_dataset = TensorData(train_x, train_y)\n",
        "\n",
        "\n",
        "\n",
        "train_dataset, val_dataset = torch.utils.data.random_split(train_dataset, [5000, 497])\n",
        "print(\"길이: \", len(train_dataset), len(val_dataset))\n",
        "\n",
        "train_loader = torch.utils.data.DataLoader(train_dataset, batch_size=128, shuffle=True)\n",
        "val_loader = torch.utils.data.DataLoader(val_dataset, batch_size=128, shuffle=False)\n",
        "\n",
        "\n",
        "#테스트 \n",
        "#test_dataset =  \n",
        "#test_loader = torch.utils.data.DataLoader(test_dataset, batch_size=128, shuffle=False)"
      ],
      "execution_count": null,
      "outputs": [
        {
          "output_type": "stream",
          "name": "stdout",
          "text": [
            "길이:  5000 497\n"
          ]
        }
      ]
    },
    {
      "cell_type": "markdown",
      "metadata": {
        "id": "lEqtbTROlXuB"
      },
      "source": [
        "### 2. Model Architecture"
      ]
    },
    {
      "cell_type": "code",
      "metadata": {
        "id": "40ht43Q1JpYI"
      },
      "source": [
        "\n",
        "class MLPModel(nn.Module):\n",
        "    def __init__(self,in_dim, out_dim, hid_unit, hid_count, use_bn):  \n",
        "        super(MLPModel, self).__init__()\n",
        "        self.in_dim = in_dim\n",
        "        self.out_dim = out_dim\n",
        "        self.hid_unit = hid_unit\n",
        "        self.hid_count = hid_count\n",
        "        self.use_bn = use_bn\n",
        "        self.act = nn.ReLU()\n",
        "\n",
        "        self.layer = self._make_layers(self.in_dim, self.out_dim, self.hid_unit, self.hid_count, self.use_bn)\n",
        "\n",
        "    def _make_layers(self, in_dim, out_dim, hid_unit, hid_count, use_bn):\n",
        "        layers = []\n",
        "\n",
        "        for i in range(hid_count-1):\n",
        "\n",
        "            if i == 0 :\n",
        "                layers.append(nn.Linear(in_features=in_dim,out_features=hid_unit))\n",
        "            else:\n",
        "                layers.append(nn.Linear(in_features=hid_unit,out_features=hid_unit))\n",
        "              \n",
        "                if use_bn:\n",
        "                      layers.append(nn.BatchNorm1d(hid_unit))\n",
        "            \n",
        "                layers.append(self.act)\n",
        "\n",
        "        #final\n",
        "        layers.append(nn.Linear(in_features=hid_unit,out_features=out_dim))\n",
        "\n",
        "        return nn.Sequential(*layers)\n",
        "   \n",
        "    def forward(self,x):\n",
        "        x = self.layer(x)\n",
        "        \n",
        "        return x"
      ],
      "execution_count": null,
      "outputs": []
    },
    {
      "cell_type": "markdown",
      "metadata": {
        "id": "FgdSvskSotgI"
      },
      "source": [
        "### 3. Cost Function Define (Loss Function Define)  "
      ]
    },
    {
      "cell_type": "code",
      "metadata": {
        "id": "H30jqt9arEpy"
      },
      "source": [
        ""
      ],
      "execution_count": null,
      "outputs": []
    },
    {
      "cell_type": "code",
      "metadata": {
        "id": "yzNkZ_uwnufC"
      },
      "source": [
        "cls_loss = nn.CrossEntropyLoss()"
      ],
      "execution_count": null,
      "outputs": []
    },
    {
      "cell_type": "markdown",
      "metadata": {
        "id": "cqGbJCGIlbgu"
      },
      "source": [
        "### 4. Train & Evaluation"
      ]
    },
    {
      "cell_type": "code",
      "metadata": {
        "colab": {
          "base_uri": "https://localhost:8080/"
        },
        "id": "5dd6tO7_lbgv",
        "scrolled": false,
        "outputId": "90034cda-59f7-4a3b-e72a-bc1d25877230"
      },
      "source": [
        "import torch.optim as optim\n",
        "from sklearn.metrics import accuracy_score\n",
        "\n",
        "# ====== Construct Model ====== #\n",
        "model = MLPModel(12,10,100,5,True)\n",
        "print(model)\n",
        "print('Number of {} parameters'.format(sum(p.numel() for p in model.parameters() if p.requires_grad)))\n",
        "\n",
        "# ===== Construct Optimizer ====== #\n",
        "lr = 0.005 \n",
        "optimizer = optim.SGD(model.parameters(), lr=lr) \n",
        "\n",
        "list_epoch = [] \n",
        "list_train_loss = []\n",
        "list_val_loss = []\n",
        "list_val_acc = []\n",
        "list_val_acc_epoch = []\n",
        "\n",
        "epoch = 30\n",
        "for i in range(epoch):\n",
        "    \n",
        "    # ====== Train ====== #\n",
        "    train_loss = 0\n",
        "    model.train() \n",
        "    \n",
        "    for input_X, true_y in train_loader:\n",
        "        \n",
        "\n",
        "        optimizer.zero_grad() # [21.01.05 오류 수정] 매 Epoch 마다 .zero_grad()가 실행되는 것을 매 iteration 마다 실행되도록 수정했습니다. \n",
        "        \n",
        "        input_X = input_X.squeeze()\n",
        "\n",
        "        pred_y = model(input_X.float())\n",
        "\n",
        "        RuntimeError()\n",
        "        #pred_y = pred_y.view(-1,1)\n",
        "\n",
        "        #pred_y = torh.argmax(pred_y)\n",
        "\n",
        "\n",
        "        true_y = true_y.view(-1)\n",
        "        #진짜 잘 모르겠음...\n",
        "\n",
        "        loss = cls_loss(pred_y.float(), true_y)\n",
        "        \n",
        "        loss.backward() \n",
        "\n",
        "        optimizer.step() \n",
        "        train_loss += loss.detach().numpy()\n",
        "\n",
        "    train_loss = train_loss / len(train_loader)\n",
        "    list_train_loss.append(train_loss)\n",
        "    list_epoch.append(i)\n",
        "    \n",
        "    \n",
        "    # ====== Validation ====== #\n",
        "    val_loss = 0\n",
        "    correct = 0\n",
        "    acc = 0\n",
        "    model.eval()\n",
        "    #optimizer.zero_grad() [21.01.05 코드 클린업] 아래 torch.no_grad()가 호출되고 Validation 과정에서는 Optimizer를 사용하지 않으므로 굳이 호출될 필요가 없습니다. \n",
        "    \n",
        "\n",
        "    with torch.no_grad(): # [21.01.05 코드 클린업] Validation 과정에서 그라디언트가 활용되지 않도록 torch.no_grad() statement 안에서 코드를 실행합니다.\n",
        "        for input_X, true_y in val_loader:\n",
        "            \n",
        "            input_X = input_X.squeeze()\n",
        "            pred_y = model(input_X.float())\n",
        "            true_y = true_y.view(-1)\n",
        "            #pred_y = pred_y.view(-1,1)\n",
        "\n",
        "            loss = cls_loss(pred_y, true_y)\n",
        "\n",
        "            \n",
        "            val_loss += loss.detach().numpy()\n",
        "            pred_y = torch.argmax(pred_y)\n",
        "            correct += pred_y.eq(true_y).sum()\n",
        "\n",
        "        val_loss = val_loss / len(val_loader.dataset)\n",
        "        list_val_loss.append(val_loss)\n",
        "        \n",
        "        acc = correct.numpy() / len(val_loader.dataset)\n",
        "        list_val_acc.append(acc)\n",
        "        list_val_acc_epoch.append(i)\n",
        "\n",
        "\n",
        "    # ====== Evaluation ======= #\n",
        "    # correct = 0\n",
        "    # model.eval()\n",
        "    # optimizer.zero_grad() [21.01.05 코드 클린업] 아래 torch.no_grad()가 호출되고 Evaluation 과정에서는 Optimizer를 사용하지 않으므로 굳이 호출될 필요가 없습니다. \n",
        "\n",
        "    # with torch.no_grad(): # [21.01.05 코드 클린업] Evaluation 과정에서 그라디언트가 활용되지 않도록 torch.no_grad() statement 안에서 코드를 실행합니다.\n",
        "    #     for input_X, true_y in test_loader:\n",
        "    #         input_X = input_X.squeeze()\n",
        "    #         input_X = input_X.view(-1, 784)\n",
        "    #         pred_y = model(input_X).max(1, keepdim=True)[1].squeeze()\n",
        "    #         correct += pred_y.eq(true_y).sum()\n",
        "\n",
        "    #     acc = correct.numpy() / len(test_loader.dataset)\n",
        "    #     list_acc.append(acc)\n",
        "    #     list_acc_epoch.append(i)\n",
        "    \n",
        "    print('Epoch: {}, Train Loss: {}, Val Loss: {}, Val Acc: {}%'.format(i, train_loss, val_loss, acc*100))"
      ],
      "execution_count": null,
      "outputs": [
        {
          "output_type": "stream",
          "name": "stdout",
          "text": [
            "MLPModel(\n",
            "  (act): ReLU()\n",
            "  (layer): Sequential(\n",
            "    (0): Linear(in_features=12, out_features=100, bias=True)\n",
            "    (1): Linear(in_features=100, out_features=100, bias=True)\n",
            "    (2): BatchNorm1d(100, eps=1e-05, momentum=0.1, affine=True, track_running_stats=True)\n",
            "    (3): ReLU()\n",
            "    (4): Linear(in_features=100, out_features=100, bias=True)\n",
            "    (5): BatchNorm1d(100, eps=1e-05, momentum=0.1, affine=True, track_running_stats=True)\n",
            "    (6): ReLU()\n",
            "    (7): Linear(in_features=100, out_features=100, bias=True)\n",
            "    (8): BatchNorm1d(100, eps=1e-05, momentum=0.1, affine=True, track_running_stats=True)\n",
            "    (9): ReLU()\n",
            "    (10): Linear(in_features=100, out_features=10, bias=True)\n",
            "  )\n",
            ")\n",
            "Number of 33210 parameters\n",
            "Epoch: 0, Train Loss: 2.148827776312828, Val Loss: 0.015840984686039825, Val Acc: 0.0%\n",
            "Epoch: 1, Train Loss: 1.6013536393642425, Val Loss: 0.012241004218517895, Val Acc: 0.0%\n",
            "Epoch: 2, Train Loss: 1.400665846467018, Val Loss: 0.011022441583859848, Val Acc: 0.0%\n",
            "Epoch: 3, Train Loss: 1.3003852814435959, Val Loss: 0.010501575421999159, Val Acc: 0.0%\n",
            "Epoch: 4, Train Loss: 1.2235067293047905, Val Loss: 0.01010364162130375, Val Acc: 0.0%\n",
            "Epoch: 5, Train Loss: 1.1974183797836304, Val Loss: 0.009892617672741773, Val Acc: 0.0%\n",
            "Epoch: 6, Train Loss: 1.1802122801542283, Val Loss: 0.009761258390108104, Val Acc: 0.0%\n",
            "Epoch: 7, Train Loss: 1.1545589238405227, Val Loss: 0.00958675086138474, Val Acc: 0.0%\n",
            "Epoch: 8, Train Loss: 1.1348215639591217, Val Loss: 0.009481141984582667, Val Acc: 0.0%\n",
            "Epoch: 9, Train Loss: 1.1066613093018531, Val Loss: 0.009416450677023567, Val Acc: 0.0%\n",
            "Epoch: 10, Train Loss: 1.1065660998225213, Val Loss: 0.009294248202916841, Val Acc: 0.0%\n",
            "Epoch: 11, Train Loss: 1.084573146700859, Val Loss: 0.00917281063509659, Val Acc: 0.0%\n",
            "Epoch: 12, Train Loss: 1.0769794330000877, Val Loss: 0.00911976370053512, Val Acc: 0.0%\n",
            "Epoch: 13, Train Loss: 1.063251645863056, Val Loss: 0.009066845569572218, Val Acc: 0.0%\n",
            "Epoch: 14, Train Loss: 1.0552123978734016, Val Loss: 0.009034194456979302, Val Acc: 0.0%\n",
            "Epoch: 15, Train Loss: 1.0387647047638893, Val Loss: 0.008962637701744524, Val Acc: 0.0%\n",
            "Epoch: 16, Train Loss: 1.040062028169632, Val Loss: 0.008925699132309114, Val Acc: 0.0%\n",
            "Epoch: 17, Train Loss: 1.038354615867138, Val Loss: 0.008944137955095686, Val Acc: 0.0%\n",
            "Epoch: 18, Train Loss: 1.049842894077301, Val Loss: 0.009357440159834127, Val Acc: 0.0%\n",
            "Epoch: 19, Train Loss: 1.0200976237654686, Val Loss: 0.008801873301116514, Val Acc: 0.0%\n",
            "Epoch: 20, Train Loss: 1.0225806653499603, Val Loss: 0.009029141853992608, Val Acc: 0.0%\n",
            "Epoch: 21, Train Loss: 1.0344796478748322, Val Loss: 0.008727251883723607, Val Acc: 0.0%\n",
            "Epoch: 22, Train Loss: 1.0071898996829987, Val Loss: 0.008729227112092723, Val Acc: 0.0%\n",
            "Epoch: 23, Train Loss: 1.018957231938839, Val Loss: 0.0086775516840054, Val Acc: 0.0%\n",
            "Epoch: 24, Train Loss: 0.9993539974093437, Val Loss: 0.009036719679112886, Val Acc: 0.0%\n",
            "Epoch: 25, Train Loss: 1.0103990226984023, Val Loss: 0.008716453009208203, Val Acc: 0.0%\n",
            "Epoch: 26, Train Loss: 0.9904433012008667, Val Loss: 0.008765766318415252, Val Acc: 0.0%\n",
            "Epoch: 27, Train Loss: 0.9946467265486717, Val Loss: 0.008837160210254446, Val Acc: 0.0%\n",
            "Epoch: 28, Train Loss: 0.9951802745461464, Val Loss: 0.008598550944261148, Val Acc: 0.0%\n",
            "Epoch: 29, Train Loss: 0.984305453300476, Val Loss: 0.00861968984546316, Val Acc: 0.0%\n"
          ]
        }
      ]
    },
    {
      "cell_type": "markdown",
      "metadata": {
        "id": "TZixor_dlbgz"
      },
      "source": [
        "### 5. Report Experiment  \n",
        "학습 과정에서 기록했던 train_loss와 val_loss를 그려봅시다.   \n",
        "Loss가 꾸준히 줄어드는지 확인하고 val_loss가 증가하기 시킨다면 그 이상의 학습은 점점 모델의 성능을 망침을 뜻합니다. \n",
        "그 옆에는 Epoch에 따라서 MAE metric이 얼마나 감소하는지 확인해봅시다."
      ]
    },
    {
      "cell_type": "code",
      "metadata": {
        "id": "s1Ol9akZlbg1",
        "scrolled": true,
        "colab": {
          "base_uri": "https://localhost:8080/",
          "height": 350
        },
        "outputId": "6f18469b-f493-4c49-d752-239ca3879a8f"
      },
      "source": [
        "fig = plt.figure(figsize=(15,5))\n",
        "\n",
        "# ====== Loss Fluctuation ====== #\n",
        "ax1 = fig.add_subplot(1, 2, 1)\n",
        "ax1.plot(list_epoch, list_train_loss, label='train_loss')\n",
        "#ax1.plot(list_epoch, list_val_loss, '--', label='val_loss')\n",
        "ax1.set_xlabel('epoch')\n",
        "ax1.set_ylabel('loss')\n",
        "ax1.grid()\n",
        "ax1.legend()\n",
        "ax1.set_title('epoch vs loss')\n",
        "\n",
        "# ====== Metric Fluctuation ====== #\n",
        "ax2 = fig.add_subplot(1, 2, 2)\n",
        "ax2.plot(list_acc_epoch, list_acc, marker='x', label='Accuracy metric')\n",
        "ax2.set_xlabel('epoch')\n",
        "ax2.set_ylabel('Acc')\n",
        "ax2.grid()\n",
        "ax2.legend()\n",
        "ax2.set_title('epoch vs Accuracy')\n",
        "\n",
        "plt.show()"
      ],
      "execution_count": null,
      "outputs": [
        {
          "output_type": "display_data",
          "data": {
            "image/png": "[encoded data removed]",
            "text/plain": [
              "<Figure size 1080x360 with 2 Axes>"
            ]
          },
          "metadata": {
            "needs_background": "light"
          }
        }
      ]
    },
    {
      "cell_type": "code",
      "metadata": {
        "id": "3ElVouvTmBmS"
      },
      "source": [
        ""
      ],
      "execution_count": null,
      "outputs": []
    }
  ]
}