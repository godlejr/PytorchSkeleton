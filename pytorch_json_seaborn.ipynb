{
  "nbformat": 4,
  "nbformat_minor": 0,
  "metadata": {
    "colab": {
      "name": "pytorch_json_seaborn.ipynb",
      "provenance": [],
      "collapsed_sections": [],
      "authorship_tag": "ABX9TyOJnI9/+fjKLrLyliy3EWUU",
      "include_colab_link": true
    },
    "kernelspec": {
      "name": "python3",
      "display_name": "Python 3"
    },
    "language_info": {
      "name": "python"
    },
    "accelerator": "GPU"
  },
  "cells": [
    {
      "cell_type": "markdown",
      "metadata": {
        "id": "view-in-github",
        "colab_type": "text"
      },
      "source": [
        "<a href=\"https://colab.research.google.com/github/godlejr/PytorchSkeleton/blob/main/pytorch_json_seaborn.ipynb\" target=\"_parent\"><img src=\"https://colab.research.google.com/assets/colab-badge.svg\" alt=\"Open In Colab\"/></a>"
      ]
    },
    {
      "cell_type": "code",
      "metadata": {
        "colab": {
          "base_uri": "https://localhost:8080/"
        },
        "id": "Nq1nfNsEUAd9",
        "outputId": "f00dc712-eaae-42ea-fa1c-52b5cd5d2f34"
      },
      "source": [
        "import json\n",
        "\n",
        "a = {'value1': 5, 'value2':10,'seq':[1,2,3,4,5]}\n",
        "\n",
        "filename = 'test.json'\n",
        "\n",
        "with open(filename,'w') as f:\n",
        "    json.dump(a, f)\n",
        "\n",
        "with open(filename,'r') as f:\n",
        "    result = json.load(f)\n",
        "    print(result)\n",
        "\n",
        "\n"
      ],
      "execution_count": null,
      "outputs": [
        {
          "output_type": "stream",
          "name": "stdout",
          "text": [
            "{'value1': 5, 'value2': 10, 'seq': [1, 2, 3, 4, 5]}\n"
          ]
        }
      ]
    },
    {
      "cell_type": "code",
      "metadata": {
        "colab": {
          "base_uri": "https://localhost:8080/"
        },
        "id": "airBXX4yUJMf",
        "outputId": "c646e86b-2d26-4f18-c7f5-ff852b168993"
      },
      "source": [
        "!ls\n",
        "!cat test.json"
      ],
      "execution_count": null,
      "outputs": [
        {
          "output_type": "stream",
          "name": "stdout",
          "text": [
            "data  results  sample_data  test.json\n",
            "{\"value1\": 5, \"value2\": 10, \"seq\": [1, 2, 3, 4, 5]}"
          ]
        }
      ]
    },
    {
      "cell_type": "code",
      "metadata": {
        "colab": {
          "base_uri": "https://localhost:8080/"
        },
        "id": "yyhzTxZ9UZwB",
        "outputId": "a34316c3-ae02-478a-9060-a4cde493b89f"
      },
      "source": [
        "import hashlib\n",
        "\n",
        "a = 'my name is kim'\n",
        "hash_key = hashlib.sha1(a.encode()).hexdigest()[:6]\n",
        "print(hash_key)\n",
        "\n",
        "\n",
        "setting = {'value1': 5, 'value2':10,'seq':[1,2,3,4,5],'exp_name':'exp1'}\n",
        "exp_name = setting['exp_name']\n",
        "hash_key = hashlib.sha1(str(setting).encode()).hexdigest()[:6]\n",
        "\n",
        "filename = '{}-{}.json'.format(exp_name, hash_key)\n",
        "\n",
        "print(filename)\n",
        "\n",
        "\n"
      ],
      "execution_count": null,
      "outputs": [
        {
          "output_type": "stream",
          "name": "stdout",
          "text": [
            "7c2951\n",
            "exp1-4766aa.json\n"
          ]
        }
      ]
    },
    {
      "cell_type": "code",
      "metadata": {
        "colab": {
          "base_uri": "https://localhost:8080/"
        },
        "id": "JUwtUhWfWCu8",
        "outputId": "45b085f1-4ed5-4042-eb5e-1b2c1fd9aa74"
      },
      "source": [
        "!mkdir results\n",
        "!ls"
      ],
      "execution_count": null,
      "outputs": [
        {
          "output_type": "stream",
          "name": "stdout",
          "text": [
            "mkdir: cannot create directory ‘results’: File exists\n",
            "data  results  sample_data  test.json\n"
          ]
        }
      ]
    },
    {
      "cell_type": "code",
      "metadata": {
        "id": "KCVJQ3nCXPPH"
      },
      "source": [
        "\n",
        "import torch\n",
        "import torchvision\n",
        "import torchvision.transforms as transforms\n",
        "import torch.nn as nn\n",
        "import torch.nn.functional as F\n",
        "import torch.optim as optim\n",
        "import argparse\n",
        "import numpy as np\n",
        "import time\n",
        "from copy import deepcopy # Add Deepcopy for args"
      ],
      "execution_count": null,
      "outputs": []
    },
    {
      "cell_type": "code",
      "metadata": {
        "colab": {
          "base_uri": "https://localhost:8080/"
        },
        "id": "NHej7icZXX5c",
        "outputId": "9e7b0f2f-301e-4dac-d9d7-5dd3c0f99e46"
      },
      "source": [
        "transform = transforms.Compose(\n",
        "    [transforms.ToTensor(),\n",
        "     transforms.Normalize((0.5, 0.5, 0.5), (0.5, 0.5, 0.5))])\n",
        "\n",
        "trainset = torchvision.datasets.CIFAR10(root='./data', train=True,\n",
        "                                        download=True, transform=transform)\n",
        "trainset, valset = torch.utils.data.random_split(trainset, [40000, 10000])\n",
        "testset = torchvision.datasets.CIFAR10(root='./data', train=False,\n",
        "                                       download=True, transform=transform)\n",
        "partition = {'train': trainset, 'val':valset, 'test':testset}"
      ],
      "execution_count": null,
      "outputs": [
        {
          "output_type": "stream",
          "name": "stdout",
          "text": [
            "Files already downloaded and verified\n",
            "Files already downloaded and verified\n"
          ]
        }
      ]
    },
    {
      "cell_type": "code",
      "metadata": {
        "id": "x_q5mqC7XcjW"
      },
      "source": [
        "class MLP(nn.Module):\n",
        "    def __init__(self, in_dim, out_dim, hid_dim, n_layer, act, dropout, use_bn, use_xavier):\n",
        "        super(MLP, self).__init__()\n",
        "        self.in_dim = in_dim\n",
        "        self.out_dim = out_dim\n",
        "        self.hid_dim = hid_dim\n",
        "        self.n_layer = n_layer\n",
        "        self.act = act\n",
        "        self.dropout = dropout\n",
        "        self.use_bn = use_bn\n",
        "        self.use_xavier = use_xavier\n",
        "        \n",
        "        # ====== Create Linear Layers ====== #\n",
        "        self.fc1 = nn.Linear(self.in_dim, self.hid_dim)\n",
        "        \n",
        "        self.linears = nn.ModuleList()\n",
        "        self.bns = nn.ModuleList()\n",
        "        for i in range(self.n_layer-1):\n",
        "            self.linears.append(nn.Linear(self.hid_dim, self.hid_dim))\n",
        "            if self.use_bn:\n",
        "                self.bns.append(nn.BatchNorm1d(self.hid_dim))\n",
        "                \n",
        "        self.fc2 = nn.Linear(self.hid_dim, self.out_dim)\n",
        "        \n",
        "        # ====== Create Activation Function ====== #\n",
        "        if self.act == 'relu':\n",
        "            self.act = nn.ReLU()\n",
        "        elif self.act == 'tanh':\n",
        "            self.act == nn.Tanh()\n",
        "        elif self.act == 'sigmoid':\n",
        "            self.act = nn.Sigmoid()\n",
        "        else:\n",
        "            raise ValueError('no valid activation function selected!')\n",
        "        \n",
        "        # ====== Create Regularization Layer ======= #\n",
        "        self.dropout = nn.Dropout(self.dropout)\n",
        "        if self.use_xavier:\n",
        "            self.xavier_init()\n",
        "          \n",
        "    def forward(self, x):\n",
        "        x = self.act(self.fc1(x))\n",
        "        for i in range(len(self.linears)):\n",
        "            x = self.act(self.linears[i](x))\n",
        "            x = self.bns[i](x)\n",
        "            x = self.dropout(x)\n",
        "        x = self.fc2(x)\n",
        "        return x\n",
        "    \n",
        "    def xavier_init(self):\n",
        "        for linear in self.linears:\n",
        "            nn.init.xavier_normal_(linear.weight)\n",
        "            linear.bias.data.fill_(0.01)\n",
        "            \n",
        "net = MLP(3072, 10, 100, 4, 'relu', 0.1, True, True) # Testing Model Construction"
      ],
      "execution_count": null,
      "outputs": []
    },
    {
      "cell_type": "code",
      "metadata": {
        "id": "CojCH01UXgai"
      },
      "source": [
        "def train(net, partition, optimizer, criterion, args):\n",
        "    trainloader = torch.utils.data.DataLoader(partition['train'], \n",
        "                                              batch_size=args.train_batch_size, \n",
        "                                              shuffle=True, num_workers=2)\n",
        "    net.train()\n",
        "\n",
        "    correct = 0\n",
        "    total = 0\n",
        "    train_loss = 0.0\n",
        "    for i, data in enumerate(trainloader, 0):\n",
        "        optimizer.zero_grad() # [21.01.05 오류 수정] 매 Epoch 마다 .zero_grad()가 실행되는 것을 매 iteration 마다 실행되도록 수정했습니다. \n",
        "\n",
        "        # get the inputs\n",
        "        inputs, labels = data\n",
        "        inputs = inputs.view(-1, 3072)\n",
        "        inputs = inputs.cuda()\n",
        "        labels = labels.cuda()\n",
        "        outputs = net(inputs)\n",
        "\n",
        "        loss = criterion(outputs, labels)\n",
        "        loss.backward()\n",
        "        optimizer.step()\n",
        "\n",
        "        train_loss += loss.item()\n",
        "        _, predicted = torch.max(outputs.data, 1)\n",
        "        total += labels.size(0)\n",
        "        correct += (predicted == labels).sum().item()\n",
        "\n",
        "    train_loss = train_loss / len(trainloader)\n",
        "    train_acc = 100 * correct / total\n",
        "    return net, train_loss, train_acc"
      ],
      "execution_count": null,
      "outputs": []
    },
    {
      "cell_type": "code",
      "metadata": {
        "id": "xvos0wX9XjNE"
      },
      "source": [
        "def validate(net, partition, criterion, args):\n",
        "    valloader = torch.utils.data.DataLoader(partition['val'], \n",
        "                                            batch_size=args.test_batch_size, \n",
        "                                            shuffle=False, num_workers=2)\n",
        "    net.eval()\n",
        "\n",
        "    correct = 0\n",
        "    total = 0\n",
        "    val_loss = 0 \n",
        "    with torch.no_grad():\n",
        "        for data in valloader:\n",
        "            images, labels = data\n",
        "            images = images.view(-1, 3072)\n",
        "            images = images.cuda()\n",
        "            labels = labels.cuda()\n",
        "            outputs = net(images)\n",
        "\n",
        "            loss = criterion(outputs, labels)\n",
        "            \n",
        "            val_loss += loss.item()\n",
        "            _, predicted = torch.max(outputs.data, 1)\n",
        "            total += labels.size(0)\n",
        "            correct += (predicted == labels).sum().item()\n",
        "\n",
        "        val_loss = val_loss / len(valloader)\n",
        "        val_acc = 100 * correct / total\n",
        "    return val_loss, val_acc"
      ],
      "execution_count": null,
      "outputs": []
    },
    {
      "cell_type": "code",
      "metadata": {
        "id": "QV-kISTqXnWk"
      },
      "source": [
        "def test(net, partition, args):\n",
        "    testloader = torch.utils.data.DataLoader(partition['test'], \n",
        "                                             batch_size=args.test_batch_size, \n",
        "                                             shuffle=False, num_workers=2)\n",
        "    net.eval()\n",
        "    \n",
        "    correct = 0\n",
        "    total = 0\n",
        "    with torch.no_grad():\n",
        "        for data in testloader:\n",
        "            images, labels = data\n",
        "            images = images.view(-1, 3072)\n",
        "            images = images.cuda()\n",
        "            labels = labels.cuda()\n",
        "\n",
        "            outputs = net(images)\n",
        "            _, predicted = torch.max(outputs.data, 1)\n",
        "            total += labels.size(0)\n",
        "            correct += (predicted == labels).sum().item()\n",
        "\n",
        "        test_acc = 100 * correct / total\n",
        "    return test_acc"
      ],
      "execution_count": null,
      "outputs": []
    },
    {
      "cell_type": "code",
      "metadata": {
        "id": "St_geai7XntM"
      },
      "source": [
        "def experiment(partition, args):\n",
        "  \n",
        "    net = MLP(args.in_dim, args.out_dim, args.hid_dim, args.n_layer, args.act, args.dropout, args.use_bn, args.use_xavier)\n",
        "    net.cuda()\n",
        "\n",
        "    criterion = nn.CrossEntropyLoss()\n",
        "    if args.optim == 'SGD':\n",
        "        optimizer = optim.RMSprop(net.parameters(), lr=args.lr, weight_decay=args.l2)\n",
        "    elif args.optim == 'RMSprop':\n",
        "        optimizer = optim.RMSprop(net.parameters(), lr=args.lr, weight_decay=args.l2)\n",
        "    elif args.optim == 'Adam':\n",
        "        optimizer = optim.Adam(net.parameters(), lr=args.lr, weight_decay=args.l2)\n",
        "    else:\n",
        "        raise ValueError('In-valid optimizer choice')\n",
        "    \n",
        "    # ===== List for epoch-wise data ====== #\n",
        "    train_losses = []\n",
        "    val_losses = []\n",
        "    train_accs = []\n",
        "    val_accs = []\n",
        "    # ===================================== #\n",
        "        \n",
        "    for epoch in range(args.epoch):  # loop over the dataset multiple times\n",
        "        ts = time.time()\n",
        "        net, train_loss, train_acc = train(net, partition, optimizer, criterion, args)\n",
        "        val_loss, val_acc = validate(net, partition, criterion, args)\n",
        "        te = time.time()\n",
        "        \n",
        "        # ====== Add Epoch Data ====== #\n",
        "        train_losses.append(train_loss)\n",
        "        val_losses.append(val_loss)\n",
        "        train_accs.append(train_acc)\n",
        "        val_accs.append(val_acc)\n",
        "        # ============================ #\n",
        "        \n",
        "        print('Epoch {}, Acc(train/val): {:2.2f}/{:2.2f}, Loss(train/val) {:2.2f}/{:2.2f}. Took {:2.2f} sec'.format(epoch, train_acc, val_acc, train_loss, val_loss, te-ts))\n",
        "        \n",
        "    test_acc = test(net, partition, args)    \n",
        "    \n",
        "    # ======= Add Result to Dictionary ======= #\n",
        "    result = {}\n",
        "    result['train_losses'] = train_losses\n",
        "    result['val_losses'] = val_losses\n",
        "    result['train_accs'] = train_accs\n",
        "    result['val_accs'] = val_accs\n",
        "    result['train_acc'] = train_acc\n",
        "    result['val_acc'] = val_acc\n",
        "    result['test_acc'] = test_acc\n",
        "    return vars(args), result\n",
        "    # ===================================== #"
      ],
      "execution_count": null,
      "outputs": []
    },
    {
      "cell_type": "code",
      "metadata": {
        "id": "2KrwsAiwXp-U"
      },
      "source": [
        "import hashlib\n",
        "import json\n",
        "from os import listdir\n",
        "from os.path import isfile, join\n",
        "import pandas as pd\n",
        "\n",
        "def save_exp_result(setting, result):\n",
        "    exp_name = setting['exp_name']\n",
        "    del setting['epoch']\n",
        "    del setting['test_batch_size']\n",
        "\n",
        "    hash_key = hashlib.sha1(str(setting).encode()).hexdigest()[:6]\n",
        "    filename = './results/{}-{}.json'.format(exp_name, hash_key)\n",
        "    result.update(setting)\n",
        "    with open(filename, 'w') as f:\n",
        "        json.dump(result, f)\n",
        "\n",
        "    \n",
        "def load_exp_result(exp_name):\n",
        "    dir_path = './results'\n",
        "    filenames = [f for f in listdir(dir_path) if isfile(join(dir_path, f)) if '.json' in f]\n",
        "    list_result = []\n",
        "    for filename in filenames:\n",
        "        if exp_name in filename:\n",
        "            with open(join(dir_path, filename), 'r') as infile:\n",
        "                results = json.load(infile)\n",
        "                list_result.append(results)\n",
        "    df = pd.DataFrame(list_result) # .drop(columns=[])\n",
        "    return df"
      ],
      "execution_count": null,
      "outputs": []
    },
    {
      "cell_type": "code",
      "metadata": {
        "colab": {
          "base_uri": "https://localhost:8080/"
        },
        "id": "9qrbHQngXsPR",
        "outputId": "788a8d42-bd4a-43d7-e871-38f6c269db19"
      },
      "source": [
        "# ====== Random Seed Initialization ====== #\n",
        "seed = 123\n",
        "np.random.seed(seed)\n",
        "torch.manual_seed(seed)\n",
        "\n",
        "parser = argparse.ArgumentParser()\n",
        "args = parser.parse_args(\"\")\n",
        "args.exp_name = \"exp1_n_layer_hid_dim\"\n",
        "\n",
        "# ====== Model Capacity ====== #\n",
        "args.in_dim = 3072\n",
        "args.out_dim = 10\n",
        "args.hid_dim = 100\n",
        "args.act = 'relu'\n",
        "\n",
        "# ====== Regularization ======= #\n",
        "args.dropout = 0.2\n",
        "args.use_bn = True\n",
        "args.l2 = 0.00001\n",
        "args.use_xavier = True\n",
        "\n",
        "# ====== Optimizer & Training ====== #\n",
        "args.optim = 'RMSprop' #'RMSprop' #SGD, RMSprop, ADAM...\n",
        "args.lr = 0.0015\n",
        "args.epoch = 10\n",
        "\n",
        "args.train_batch_size = 256\n",
        "args.test_batch_size = 1024\n",
        "\n",
        "# ====== Experiment Variable ====== #\n",
        "name_var1 = 'n_layer'\n",
        "name_var2 = 'hid_dim'\n",
        "list_var1 = [1, 2, 3]\n",
        "list_var2 = [500, 300]\n",
        "\n",
        "\n",
        "for var1 in list_var1:\n",
        "    for var2 in list_var2:\n",
        "        setattr(args, name_var1, var1)\n",
        "        setattr(args, name_var2, var2)\n",
        "        print(args)\n",
        "                \n",
        "        setting, result = experiment(partition, deepcopy(args))\n",
        "        save_exp_result(setting, result)"
      ],
      "execution_count": null,
      "outputs": [
        {
          "output_type": "stream",
          "name": "stdout",
          "text": [
            "Namespace(act='relu', dropout=0.2, epoch=10, exp_name='exp1_n_layer_hid_dim', hid_dim=500, in_dim=3072, l2=1e-05, lr=0.0015, n_layer=1, optim='RMSprop', out_dim=10, test_batch_size=1024, train_batch_size=256, use_bn=True, use_xavier=True)\n",
            "Epoch 0, Acc(train/val): 38.12/41.47, Loss(train/val) 2.44/1.72. Took 10.58 sec\n",
            "Epoch 1, Acc(train/val): 46.07/37.54, Loss(train/val) 1.57/1.95. Took 10.62 sec\n",
            "Epoch 2, Acc(train/val): 48.60/37.54, Loss(train/val) 1.49/1.90. Took 10.65 sec\n",
            "Epoch 3, Acc(train/val): 51.31/45.06, Loss(train/val) 1.42/1.76. Took 10.64 sec\n",
            "Epoch 4, Acc(train/val): 52.67/37.13, Loss(train/val) 1.38/2.31. Took 10.70 sec\n",
            "Epoch 5, Acc(train/val): 55.37/45.89, Loss(train/val) 1.32/1.66. Took 10.69 sec\n",
            "Epoch 6, Acc(train/val): 56.94/47.56, Loss(train/val) 1.28/1.64. Took 10.66 sec\n",
            "Epoch 7, Acc(train/val): 58.65/41.77, Loss(train/val) 1.23/2.12. Took 10.62 sec\n",
            "Epoch 8, Acc(train/val): 60.43/41.83, Loss(train/val) 1.20/2.24. Took 10.65 sec\n",
            "Epoch 9, Acc(train/val): 61.81/44.87, Loss(train/val) 1.16/1.84. Took 10.72 sec\n",
            "Namespace(act='relu', dropout=0.2, epoch=10, exp_name='exp1_n_layer_hid_dim', hid_dim=300, in_dim=3072, l2=1e-05, lr=0.0015, n_layer=1, optim='RMSprop', out_dim=10, test_batch_size=1024, train_batch_size=256, use_bn=True, use_xavier=True)\n",
            "Epoch 0, Acc(train/val): 38.42/36.32, Loss(train/val) 2.23/1.88. Took 10.66 sec\n",
            "Epoch 1, Acc(train/val): 46.53/41.67, Loss(train/val) 1.54/1.74. Took 10.70 sec\n",
            "Epoch 2, Acc(train/val): 49.57/42.58, Loss(train/val) 1.46/1.74. Took 10.67 sec\n",
            "Epoch 3, Acc(train/val): 51.33/43.62, Loss(train/val) 1.40/1.68. Took 10.58 sec\n",
            "Epoch 4, Acc(train/val): 53.90/45.07, Loss(train/val) 1.33/1.70. Took 10.70 sec\n",
            "Epoch 5, Acc(train/val): 55.93/40.86, Loss(train/val) 1.30/2.00. Took 10.64 sec\n",
            "Epoch 6, Acc(train/val): 57.35/47.69, Loss(train/val) 1.25/1.58. Took 10.55 sec\n",
            "Epoch 7, Acc(train/val): 59.27/40.80, Loss(train/val) 1.20/2.03. Took 10.62 sec\n",
            "Epoch 8, Acc(train/val): 60.39/43.09, Loss(train/val) 1.16/2.02. Took 10.65 sec\n",
            "Epoch 9, Acc(train/val): 61.50/48.23, Loss(train/val) 1.14/1.60. Took 10.65 sec\n",
            "Namespace(act='relu', dropout=0.2, epoch=10, exp_name='exp1_n_layer_hid_dim', hid_dim=500, in_dim=3072, l2=1e-05, lr=0.0015, n_layer=2, optim='RMSprop', out_dim=10, test_batch_size=1024, train_batch_size=256, use_bn=True, use_xavier=True)\n",
            "Epoch 0, Acc(train/val): 36.91/39.50, Loss(train/val) 1.80/1.71. Took 10.79 sec\n",
            "Epoch 1, Acc(train/val): 45.60/42.85, Loss(train/val) 1.52/1.75. Took 10.81 sec\n",
            "Epoch 2, Acc(train/val): 49.93/43.16, Loss(train/val) 1.42/1.61. Took 10.79 sec\n",
            "Epoch 3, Acc(train/val): 52.52/45.75, Loss(train/val) 1.34/1.58. Took 10.79 sec\n",
            "Epoch 4, Acc(train/val): 54.88/47.99, Loss(train/val) 1.27/1.51. Took 10.97 sec\n",
            "Epoch 5, Acc(train/val): 57.27/46.40, Loss(train/val) 1.21/1.60. Took 10.84 sec\n",
            "Epoch 6, Acc(train/val): 59.39/49.31, Loss(train/val) 1.15/1.50. Took 10.90 sec\n",
            "Epoch 7, Acc(train/val): 61.72/48.85, Loss(train/val) 1.08/1.60. Took 10.88 sec\n",
            "Epoch 8, Acc(train/val): 63.47/47.28, Loss(train/val) 1.03/1.59. Took 10.90 sec\n",
            "Epoch 9, Acc(train/val): 65.38/49.14, Loss(train/val) 0.97/1.62. Took 10.82 sec\n",
            "Namespace(act='relu', dropout=0.2, epoch=10, exp_name='exp1_n_layer_hid_dim', hid_dim=300, in_dim=3072, l2=1e-05, lr=0.0015, n_layer=2, optim='RMSprop', out_dim=10, test_batch_size=1024, train_batch_size=256, use_bn=True, use_xavier=True)\n",
            "Epoch 0, Acc(train/val): 37.48/38.07, Loss(train/val) 1.76/1.78. Took 10.85 sec\n",
            "Epoch 1, Acc(train/val): 46.24/45.57, Loss(train/val) 1.51/1.54. Took 10.89 sec\n",
            "Epoch 2, Acc(train/val): 49.94/45.17, Loss(train/val) 1.42/1.61. Took 10.87 sec\n",
            "Epoch 3, Acc(train/val): 52.61/49.13, Loss(train/val) 1.34/1.46. Took 10.80 sec\n",
            "Epoch 4, Acc(train/val): 54.74/49.41, Loss(train/val) 1.28/1.48. Took 10.91 sec\n",
            "Epoch 5, Acc(train/val): 56.92/49.41, Loss(train/val) 1.22/1.52. Took 10.80 sec\n",
            "Epoch 6, Acc(train/val): 58.77/50.55, Loss(train/val) 1.16/1.44. Took 10.86 sec\n",
            "Epoch 7, Acc(train/val): 60.92/50.17, Loss(train/val) 1.11/1.49. Took 10.78 sec\n",
            "Epoch 8, Acc(train/val): 62.38/50.81, Loss(train/val) 1.06/1.50. Took 10.83 sec\n",
            "Epoch 9, Acc(train/val): 64.44/51.54, Loss(train/val) 1.01/1.44. Took 10.87 sec\n",
            "Namespace(act='relu', dropout=0.2, epoch=10, exp_name='exp1_n_layer_hid_dim', hid_dim=500, in_dim=3072, l2=1e-05, lr=0.0015, n_layer=3, optim='RMSprop', out_dim=10, test_batch_size=1024, train_batch_size=256, use_bn=True, use_xavier=True)\n",
            "Epoch 0, Acc(train/val): 35.62/39.99, Loss(train/val) 1.83/1.68. Took 11.08 sec\n",
            "Epoch 1, Acc(train/val): 45.21/38.56, Loss(train/val) 1.52/1.79. Took 11.05 sec\n",
            "Epoch 2, Acc(train/val): 49.35/44.06, Loss(train/val) 1.41/1.63. Took 10.97 sec\n",
            "Epoch 3, Acc(train/val): 52.28/44.51, Loss(train/val) 1.33/1.59. Took 11.06 sec\n",
            "Epoch 4, Acc(train/val): 55.03/46.80, Loss(train/val) 1.26/1.51. Took 10.88 sec\n",
            "Epoch 5, Acc(train/val): 57.01/49.99, Loss(train/val) 1.20/1.44. Took 11.09 sec\n",
            "Epoch 6, Acc(train/val): 59.27/49.30, Loss(train/val) 1.14/1.52. Took 11.01 sec\n",
            "Epoch 7, Acc(train/val): 61.69/45.58, Loss(train/val) 1.08/1.72. Took 11.06 sec\n",
            "Epoch 8, Acc(train/val): 63.51/48.28, Loss(train/val) 1.03/1.57. Took 11.12 sec\n",
            "Epoch 9, Acc(train/val): 65.39/50.95, Loss(train/val) 0.96/1.55. Took 10.94 sec\n",
            "Namespace(act='relu', dropout=0.2, epoch=10, exp_name='exp1_n_layer_hid_dim', hid_dim=300, in_dim=3072, l2=1e-05, lr=0.0015, n_layer=3, optim='RMSprop', out_dim=10, test_batch_size=1024, train_batch_size=256, use_bn=True, use_xavier=True)\n",
            "Epoch 0, Acc(train/val): 36.34/41.35, Loss(train/val) 1.79/1.63. Took 11.11 sec\n",
            "Epoch 1, Acc(train/val): 45.59/42.49, Loss(train/val) 1.52/1.62. Took 10.93 sec\n",
            "Epoch 2, Acc(train/val): 49.59/45.50, Loss(train/val) 1.40/1.58. Took 10.96 sec\n",
            "Epoch 3, Acc(train/val): 52.70/43.82, Loss(train/val) 1.32/1.64. Took 10.97 sec\n",
            "Epoch 4, Acc(train/val): 54.86/43.99, Loss(train/val) 1.26/1.75. Took 10.97 sec\n",
            "Epoch 5, Acc(train/val): 57.30/48.86, Loss(train/val) 1.19/1.52. Took 11.03 sec\n",
            "Epoch 6, Acc(train/val): 59.06/52.10, Loss(train/val) 1.15/1.38. Took 11.02 sec\n",
            "Epoch 7, Acc(train/val): 61.15/48.03, Loss(train/val) 1.09/1.52. Took 10.98 sec\n",
            "Epoch 8, Acc(train/val): 62.89/48.00, Loss(train/val) 1.04/1.57. Took 11.05 sec\n",
            "Epoch 9, Acc(train/val): 64.64/51.87, Loss(train/val) 0.99/1.46. Took 11.04 sec\n"
          ]
        }
      ]
    },
    {
      "cell_type": "code",
      "metadata": {
        "colab": {
          "base_uri": "https://localhost:8080/",
          "height": 352
        },
        "id": "uUhuLyNgXwg0",
        "outputId": "aa2cb0b6-3957-4493-be81-f9cb7f286b37"
      },
      "source": [
        "import seaborn as sns \n",
        "import matplotlib.pyplot as plt\n",
        "\n",
        "df = load_exp_result('exp1')\n",
        "\n",
        "fig, ax = plt.subplots(1, 3)\n",
        "fig.set_size_inches(15, 6)\n",
        "sns.set_style(\"darkgrid\", {\"axes.facecolor\": \".9\"})\n",
        "\n",
        "sns.barplot(x='n_layer', y='train_acc', hue='hid_dim', data=df, ax=ax[0])\n",
        "sns.barplot(x='n_layer', y='val_acc', hue='hid_dim', data=df, ax=ax[1])\n",
        "sns.barplot(x='n_layer', y='test_acc', hue='hid_dim', data=df, ax=ax[2])"
      ],
      "execution_count": null,
      "outputs": [
        {
          "output_type": "stream",
          "name": "stderr",
          "text": [
            "/usr/local/lib/python3.7/dist-packages/statsmodels/tools/_testing.py:19: FutureWarning: pandas.util.testing is deprecated. Use the functions in the public API at pandas.testing instead.\n",
            "  import pandas.util.testing as tm\n"
          ]
        },
        {
          "output_type": "execute_result",
          "data": {
            "text/plain": [
              "<matplotlib.axes._subplots.AxesSubplot at 0x7f6cae053690>"
            ]
          },
          "metadata": {},
          "execution_count": 14
        },
        {
          "output_type": "display_data",
          "data": {
            "image/png": "[encoded data removed]",
            "text/plain": [
              "<Figure size 1080x432 with 3 Axes>"
            ]
          },
          "metadata": {
            "needs_background": "light"
          }
        }
      ]
    },
    {
      "cell_type": "code",
      "metadata": {
        "colab": {
          "base_uri": "https://localhost:8080/",
          "height": 399
        },
        "id": "d79oUSynYB7L",
        "outputId": "3fde55ea-d270-4fb1-a67a-b96927280e35"
      },
      "source": [
        "var1 = 'n_layer'\n",
        "var2 = 'hid_dim'\n",
        "\n",
        "df = load_exp_result('exp1')\n",
        "list_v1 = df[var1].unique()\n",
        "list_v2 = df[var2].unique()\n",
        "list_data = []\n",
        "\n",
        "for value1 in list_v1:\n",
        "    for value2 in list_v2:\n",
        "        row = df.loc[df[var1]==value1]\n",
        "        row = row.loc[df[var2]==value2]\n",
        "        \n",
        "        train_losses = list(row.train_losses)[0]\n",
        "        val_losses = list(row.val_losses)[0]\n",
        "        \n",
        "        for epoch, train_loss in enumerate(train_losses):\n",
        "            list_data.append({'type':'train', 'loss':train_loss, 'epoch':epoch, var1:value1, var2:value2})\n",
        "        for epoch, val_loss in enumerate(val_losses):\n",
        "            list_data.append({'type':'val', 'loss':val_loss, 'epoch':epoch, var1:value1, var2:value2})\n",
        "        \n",
        "df = pd.DataFrame(list_data)\n",
        "g = sns.FacetGrid(df, row=var2, col=var1, hue='type', margin_titles=True, sharey=False)\n",
        "g = g.map(plt.plot, 'epoch', 'loss', marker='.')\n",
        "g.add_legend()\n",
        "g.fig.suptitle('Train loss vs Val loss')\n",
        "plt.subplots_adjust(top=0.89)"
      ],
      "execution_count": null,
      "outputs": [
        {
          "output_type": "display_data",
          "data": {
            "image/png": "[encoded data removed]",
            "text/plain": [
              "<Figure size 707.375x432 with 6 Axes>"
            ]
          },
          "metadata": {}
        }
      ]
    },
    {
      "cell_type": "code",
      "metadata": {
        "colab": {
          "base_uri": "https://localhost:8080/",
          "height": 399
        },
        "id": "PYaZkbPwYCPx",
        "outputId": "4b0643fa-5890-4eab-a04b-5ffd373efb59"
      },
      "source": [
        "var1 = 'n_layer'\n",
        "var2 = 'hid_dim'\n",
        "\n",
        "df = load_exp_result('exp1')\n",
        "list_v1 = df[var1].unique()\n",
        "list_v2 = df[var2].unique()\n",
        "list_data = []\n",
        "\n",
        "for value1 in list_v1:\n",
        "    for value2 in list_v2:\n",
        "        row = df.loc[df[var1]==value1]\n",
        "        row = row.loc[df[var2]==value2]\n",
        "        \n",
        "        train_accs = list(row.train_accs)[0]\n",
        "        val_accs = list(row.val_accs)[0]\n",
        "        test_acc = list(row.test_acc)[0]\n",
        "        \n",
        "        for epoch, train_acc in enumerate(train_accs):\n",
        "            list_data.append({'type':'train', 'Acc':train_acc, 'test_acc':test_acc, 'epoch':epoch, var1:value1, var2:value2})\n",
        "        for epoch, val_acc in enumerate(val_accs):\n",
        "            list_data.append({'type':'val', 'Acc':val_acc, 'test_acc':test_acc, 'epoch':epoch, var1:value1, var2:value2})\n",
        "        \n",
        "df = pd.DataFrame(list_data)\n",
        "g = sns.FacetGrid(df, row=var2, col=var1, hue='type', margin_titles=True, sharey=False)\n",
        "g = g.map(plt.plot, 'epoch', 'Acc', marker='.')\n",
        "\n",
        "def show_acc(x, y, metric, **kwargs):\n",
        "    plt.scatter(x, y, alpha=0.3, s=1)\n",
        "    metric = \"Test Acc: {:1.3f}\".format(list(metric.values)[0])\n",
        "    plt.text(0.05, 0.95, metric,  horizontalalignment='left', verticalalignment='center', transform=plt.gca().transAxes, bbox=dict(facecolor='yellow', alpha=0.5, boxstyle=\"round,pad=0.1\"))\n",
        "g = g.map(show_acc, 'epoch', 'Acc', 'test_acc')\n",
        "\n",
        "g.add_legend()\n",
        "g.fig.suptitle('Train Accuracy vs Val Accuracy')\n",
        "\n",
        "\n",
        "\n",
        "plt.subplots_adjust(top=0.89)"
      ],
      "execution_count": null,
      "outputs": [
        {
          "output_type": "display_data",
          "data": {
            "image/png": "[encoded data removed]",
            "text/plain": [
              "<Figure size 707.375x432 with 6 Axes>"
            ]
          },
          "metadata": {}
        }
      ]
    },
    {
      "cell_type": "code",
      "metadata": {
        "colab": {
          "base_uri": "https://localhost:8080/"
        },
        "id": "tHSGxSs8YHAX",
        "outputId": "7836159e-62ff-425b-9481-092039fe5107"
      },
      "source": [
        "!ls results\n",
        "!cat results/exp1_n_layer_hid_dim-41b634.json"
      ],
      "execution_count": null,
      "outputs": [
        {
          "output_type": "stream",
          "name": "stdout",
          "text": [
            "exp1_n_layer_hid_dim-41b634.json  exp1_n_layer_hid_dim-bfc899.json\n",
            "exp1_n_layer_hid_dim-61a2d0.json  exp1_n_layer_hid_dim-cab8c1.json\n",
            "exp1_n_layer_hid_dim-7b70fe.json  exp1_n_layer_hid_dim-dece45.json\n",
            "{\"train_losses\": [1.7854763132751368, 1.5172864365729557, 1.4023919675000913, 1.3206211442400695, 1.259586309931081, 1.19417197878953, 1.1473254489291245, 1.092276889047805, 1.0357441397229576, 0.9853168589294337], \"val_losses\": [1.6312457919120789, 1.622060739994049, 1.5805181980133056, 1.6423774003982543, 1.754293429851532, 1.5186996936798096, 1.3823232173919677, 1.5207930326461792, 1.5681097388267518, 1.4560502409934997], \"train_accs\": [36.345, 45.5925, 49.5925, 52.695, 54.8575, 57.3025, 59.06, 61.1525, 62.8875, 64.6425], \"val_accs\": [41.35, 42.49, 45.5, 43.82, 43.99, 48.86, 52.1, 48.03, 48.0, 51.87], \"train_acc\": 64.6425, \"val_acc\": 51.87, \"test_acc\": 51.32, \"exp_name\": \"exp1_n_layer_hid_dim\", \"in_dim\": 3072, \"out_dim\": 10, \"hid_dim\": 300, \"act\": \"relu\", \"dropout\": 0.2, \"use_bn\": true, \"l2\": 1e-05, \"use_xavier\": true, \"optim\": \"RMSprop\", \"lr\": 0.0015, \"train_batch_size\": 256, \"n_layer\": 3}"
          ]
        }
      ]
    },
    {
      "cell_type": "code",
      "metadata": {
        "id": "hovzsHWtZlWb"
      },
      "source": [
        "results = load_exp_result('exp1')"
      ],
      "execution_count": null,
      "outputs": []
    },
    {
      "cell_type": "code",
      "metadata": {
        "colab": {
          "base_uri": "https://localhost:8080/",
          "height": 850
        },
        "id": "ConERVs8ayID",
        "outputId": "4923e2e5-618e-4906-ef55-e3cc91cccd2d"
      },
      "source": [
        "results"
      ],
      "execution_count": null,
      "outputs": [
        {
          "output_type": "execute_result",
          "data": {
            "text/html": [
              "<div>\n",
              "<style scoped>\n",
              "    .dataframe tbody tr th:only-of-type {\n",
              "        vertical-align: middle;\n",
              "    }\n",
              "\n",
              "    .dataframe tbody tr th {\n",
              "        vertical-align: top;\n",
              "    }\n",
              "\n",
              "    .dataframe thead th {\n",
              "        text-align: right;\n",
              "    }\n",
              "</style>\n",
              "<table border=\"1\" class=\"dataframe\">\n",
              "  <thead>\n",
              "    <tr style=\"text-align: right;\">\n",
              "      <th></th>\n",
              "      <th>train_losses</th>\n",
              "      <th>val_losses</th>\n",
              "      <th>train_accs</th>\n",
              "      <th>val_accs</th>\n",
              "      <th>train_acc</th>\n",
              "      <th>val_acc</th>\n",
              "      <th>test_acc</th>\n",
              "      <th>exp_name</th>\n",
              "      <th>in_dim</th>\n",
              "      <th>out_dim</th>\n",
              "      <th>hid_dim</th>\n",
              "      <th>act</th>\n",
              "      <th>dropout</th>\n",
              "      <th>use_bn</th>\n",
              "      <th>l2</th>\n",
              "      <th>use_xavier</th>\n",
              "      <th>optim</th>\n",
              "      <th>lr</th>\n",
              "      <th>train_batch_size</th>\n",
              "      <th>n_layer</th>\n",
              "    </tr>\n",
              "  </thead>\n",
              "  <tbody>\n",
              "    <tr>\n",
              "      <th>0</th>\n",
              "      <td>[2.435428700629313, 1.5721884935524812, 1.4911...</td>\n",
              "      <td>[1.7162062048912048, 1.9492196202278138, 1.898...</td>\n",
              "      <td>[38.125, 46.0675, 48.6025, 51.31, 52.6725, 55....</td>\n",
              "      <td>[41.47, 37.54, 37.54, 45.06, 37.13, 45.89, 47....</td>\n",
              "      <td>61.8100</td>\n",
              "      <td>44.87</td>\n",
              "      <td>45.06</td>\n",
              "      <td>exp1_n_layer_hid_dim</td>\n",
              "      <td>3072</td>\n",
              "      <td>10</td>\n",
              "      <td>500</td>\n",
              "      <td>relu</td>\n",
              "      <td>0.2</td>\n",
              "      <td>True</td>\n",
              "      <td>0.00001</td>\n",
              "      <td>True</td>\n",
              "      <td>RMSprop</td>\n",
              "      <td>0.0015</td>\n",
              "      <td>256</td>\n",
              "      <td>1</td>\n",
              "    </tr>\n",
              "    <tr>\n",
              "      <th>1</th>\n",
              "      <td>[1.8011471579788596, 1.523592875261975, 1.4178...</td>\n",
              "      <td>[1.7060554385185243, 1.7525290966033935, 1.606...</td>\n",
              "      <td>[36.915, 45.6025, 49.93, 52.5225, 54.885, 57.2...</td>\n",
              "      <td>[39.5, 42.85, 43.16, 45.75, 47.99, 46.4, 49.31...</td>\n",
              "      <td>65.3800</td>\n",
              "      <td>49.14</td>\n",
              "      <td>48.79</td>\n",
              "      <td>exp1_n_layer_hid_dim</td>\n",
              "      <td>3072</td>\n",
              "      <td>10</td>\n",
              "      <td>500</td>\n",
              "      <td>relu</td>\n",
              "      <td>0.2</td>\n",
              "      <td>True</td>\n",
              "      <td>0.00001</td>\n",
              "      <td>True</td>\n",
              "      <td>RMSprop</td>\n",
              "      <td>0.0015</td>\n",
              "      <td>256</td>\n",
              "      <td>2</td>\n",
              "    </tr>\n",
              "    <tr>\n",
              "      <th>2</th>\n",
              "      <td>[2.2276959373692797, 1.542182979310394, 1.4568...</td>\n",
              "      <td>[1.876650905609131, 1.7425587892532348, 1.7439...</td>\n",
              "      <td>[38.4175, 46.5325, 49.57, 51.3275, 53.895, 55....</td>\n",
              "      <td>[36.32, 41.67, 42.58, 43.62, 45.07, 40.86, 47....</td>\n",
              "      <td>61.4975</td>\n",
              "      <td>48.23</td>\n",
              "      <td>48.23</td>\n",
              "      <td>exp1_n_layer_hid_dim</td>\n",
              "      <td>3072</td>\n",
              "      <td>10</td>\n",
              "      <td>300</td>\n",
              "      <td>relu</td>\n",
              "      <td>0.2</td>\n",
              "      <td>True</td>\n",
              "      <td>0.00001</td>\n",
              "      <td>True</td>\n",
              "      <td>RMSprop</td>\n",
              "      <td>0.0015</td>\n",
              "      <td>256</td>\n",
              "      <td>1</td>\n",
              "    </tr>\n",
              "    <tr>\n",
              "      <th>3</th>\n",
              "      <td>[1.7567424599532109, 1.5103493503704193, 1.417...</td>\n",
              "      <td>[1.7803136348724364, 1.535821759700775, 1.6127...</td>\n",
              "      <td>[37.48, 46.2425, 49.935, 52.6075, 54.745, 56.9...</td>\n",
              "      <td>[38.07, 45.57, 45.17, 49.13, 49.41, 49.41, 50....</td>\n",
              "      <td>64.4375</td>\n",
              "      <td>51.54</td>\n",
              "      <td>51.55</td>\n",
              "      <td>exp1_n_layer_hid_dim</td>\n",
              "      <td>3072</td>\n",
              "      <td>10</td>\n",
              "      <td>300</td>\n",
              "      <td>relu</td>\n",
              "      <td>0.2</td>\n",
              "      <td>True</td>\n",
              "      <td>0.00001</td>\n",
              "      <td>True</td>\n",
              "      <td>RMSprop</td>\n",
              "      <td>0.0015</td>\n",
              "      <td>256</td>\n",
              "      <td>2</td>\n",
              "    </tr>\n",
              "    <tr>\n",
              "      <th>4</th>\n",
              "      <td>[1.8311871525588308, 1.5234525757990065, 1.411...</td>\n",
              "      <td>[1.6811469793319702, 1.7861740827560424, 1.629...</td>\n",
              "      <td>[35.62, 45.2075, 49.3475, 52.28, 55.03, 57.007...</td>\n",
              "      <td>[39.99, 38.56, 44.06, 44.51, 46.8, 49.99, 49.3...</td>\n",
              "      <td>65.3850</td>\n",
              "      <td>50.95</td>\n",
              "      <td>51.18</td>\n",
              "      <td>exp1_n_layer_hid_dim</td>\n",
              "      <td>3072</td>\n",
              "      <td>10</td>\n",
              "      <td>500</td>\n",
              "      <td>relu</td>\n",
              "      <td>0.2</td>\n",
              "      <td>True</td>\n",
              "      <td>0.00001</td>\n",
              "      <td>True</td>\n",
              "      <td>RMSprop</td>\n",
              "      <td>0.0015</td>\n",
              "      <td>256</td>\n",
              "      <td>3</td>\n",
              "    </tr>\n",
              "    <tr>\n",
              "      <th>5</th>\n",
              "      <td>[1.7854763132751368, 1.5172864365729557, 1.402...</td>\n",
              "      <td>[1.6312457919120789, 1.622060739994049, 1.5805...</td>\n",
              "      <td>[36.345, 45.5925, 49.5925, 52.695, 54.8575, 57...</td>\n",
              "      <td>[41.35, 42.49, 45.5, 43.82, 43.99, 48.86, 52.1...</td>\n",
              "      <td>64.6425</td>\n",
              "      <td>51.87</td>\n",
              "      <td>51.32</td>\n",
              "      <td>exp1_n_layer_hid_dim</td>\n",
              "      <td>3072</td>\n",
              "      <td>10</td>\n",
              "      <td>300</td>\n",
              "      <td>relu</td>\n",
              "      <td>0.2</td>\n",
              "      <td>True</td>\n",
              "      <td>0.00001</td>\n",
              "      <td>True</td>\n",
              "      <td>RMSprop</td>\n",
              "      <td>0.0015</td>\n",
              "      <td>256</td>\n",
              "      <td>3</td>\n",
              "    </tr>\n",
              "  </tbody>\n",
              "</table>\n",
              "</div>"
            ],
            "text/plain": [
              "                                        train_losses  ... n_layer\n",
              "0  [2.435428700629313, 1.5721884935524812, 1.4911...  ...       1\n",
              "1  [1.8011471579788596, 1.523592875261975, 1.4178...  ...       2\n",
              "2  [2.2276959373692797, 1.542182979310394, 1.4568...  ...       1\n",
              "3  [1.7567424599532109, 1.5103493503704193, 1.417...  ...       2\n",
              "4  [1.8311871525588308, 1.5234525757990065, 1.411...  ...       3\n",
              "5  [1.7854763132751368, 1.5172864365729557, 1.402...  ...       3\n",
              "\n",
              "[6 rows x 20 columns]"
            ]
          },
          "metadata": {},
          "execution_count": 19
        }
      ]
    },
    {
      "cell_type": "code",
      "metadata": {
        "colab": {
          "base_uri": "https://localhost:8080/"
        },
        "id": "1JatNL19a-Xm",
        "outputId": "b237c46c-07b0-4b2d-e1f8-42b211d81432"
      },
      "source": [
        "print(type(load_exp_result('exp1')))\n",
        "\n",
        "a= [{'age':5, 'gender': 'f','score': 10,'t':1},\n",
        "    {'age':28, 'gender': 'f','score': 20,'t':1},\n",
        "    {'age':12, 'gender': 'f','score': 30,'t':1},\n",
        "    {'age':22, 'gender': 'm','score': 40,'t':2},\n",
        "    {'age':32, 'gender': 'f','score': 20,'t':2},\n",
        "    {'age':15, 'gender': 'M','score': 60,'t':2}]"
      ],
      "execution_count": null,
      "outputs": [
        {
          "output_type": "stream",
          "name": "stdout",
          "text": [
            "<class 'pandas.core.frame.DataFrame'>\n"
          ]
        }
      ]
    },
    {
      "cell_type": "code",
      "metadata": {
        "colab": {
          "base_uri": "https://localhost:8080/",
          "height": 235
        },
        "id": "Am3uXy7RbFS3",
        "outputId": "63b57996-585f-4ebe-d88a-69975b4dda0b"
      },
      "source": [
        "df = pd.DataFrame(a)\n",
        "df"
      ],
      "execution_count": null,
      "outputs": [
        {
          "output_type": "execute_result",
          "data": {
            "text/html": [
              "<div>\n",
              "<style scoped>\n",
              "    .dataframe tbody tr th:only-of-type {\n",
              "        vertical-align: middle;\n",
              "    }\n",
              "\n",
              "    .dataframe tbody tr th {\n",
              "        vertical-align: top;\n",
              "    }\n",
              "\n",
              "    .dataframe thead th {\n",
              "        text-align: right;\n",
              "    }\n",
              "</style>\n",
              "<table border=\"1\" class=\"dataframe\">\n",
              "  <thead>\n",
              "    <tr style=\"text-align: right;\">\n",
              "      <th></th>\n",
              "      <th>age</th>\n",
              "      <th>gender</th>\n",
              "      <th>score</th>\n",
              "    </tr>\n",
              "  </thead>\n",
              "  <tbody>\n",
              "    <tr>\n",
              "      <th>0</th>\n",
              "      <td>5</td>\n",
              "      <td>f</td>\n",
              "      <td>10</td>\n",
              "    </tr>\n",
              "    <tr>\n",
              "      <th>1</th>\n",
              "      <td>28</td>\n",
              "      <td>f</td>\n",
              "      <td>20</td>\n",
              "    </tr>\n",
              "    <tr>\n",
              "      <th>2</th>\n",
              "      <td>12</td>\n",
              "      <td>f</td>\n",
              "      <td>30</td>\n",
              "    </tr>\n",
              "    <tr>\n",
              "      <th>3</th>\n",
              "      <td>22</td>\n",
              "      <td>m</td>\n",
              "      <td>40</td>\n",
              "    </tr>\n",
              "    <tr>\n",
              "      <th>4</th>\n",
              "      <td>32</td>\n",
              "      <td>f</td>\n",
              "      <td>20</td>\n",
              "    </tr>\n",
              "    <tr>\n",
              "      <th>5</th>\n",
              "      <td>15</td>\n",
              "      <td>M</td>\n",
              "      <td>60</td>\n",
              "    </tr>\n",
              "  </tbody>\n",
              "</table>\n",
              "</div>"
            ],
            "text/plain": [
              "   age gender  score\n",
              "0    5      f     10\n",
              "1   28      f     20\n",
              "2   12      f     30\n",
              "3   22      m     40\n",
              "4   32      f     20\n",
              "5   15      M     60"
            ]
          },
          "metadata": {},
          "execution_count": 21
        }
      ]
    },
    {
      "cell_type": "code",
      "metadata": {
        "colab": {
          "base_uri": "https://localhost:8080/"
        },
        "id": "pF8yNl5McgFO",
        "outputId": "93828f4a-9855-4ae3-8387-82f00d2c59be"
      },
      "source": [
        "!pip install seaborn==0.9.0"
      ],
      "execution_count": null,
      "outputs": [
        {
          "output_type": "stream",
          "name": "stdout",
          "text": [
            "Requirement already satisfied: seaborn==0.9.0 in /usr/local/lib/python3.7/dist-packages (0.9.0)\n",
            "Requirement already satisfied: scipy>=0.14.0 in /usr/local/lib/python3.7/dist-packages (from seaborn==0.9.0) (1.4.1)\n",
            "Requirement already satisfied: matplotlib>=1.4.3 in /usr/local/lib/python3.7/dist-packages (from seaborn==0.9.0) (3.2.2)\n",
            "Requirement already satisfied: numpy>=1.9.3 in /usr/local/lib/python3.7/dist-packages (from seaborn==0.9.0) (1.19.5)\n",
            "Requirement already satisfied: pandas>=0.15.2 in /usr/local/lib/python3.7/dist-packages (from seaborn==0.9.0) (1.1.5)\n",
            "Requirement already satisfied: cycler>=0.10 in /usr/local/lib/python3.7/dist-packages (from matplotlib>=1.4.3->seaborn==0.9.0) (0.10.0)\n",
            "Requirement already satisfied: kiwisolver>=1.0.1 in /usr/local/lib/python3.7/dist-packages (from matplotlib>=1.4.3->seaborn==0.9.0) (1.3.2)\n",
            "Requirement already satisfied: pyparsing!=2.0.4,!=2.1.2,!=2.1.6,>=2.0.1 in /usr/local/lib/python3.7/dist-packages (from matplotlib>=1.4.3->seaborn==0.9.0) (2.4.7)\n",
            "Requirement already satisfied: python-dateutil>=2.1 in /usr/local/lib/python3.7/dist-packages (from matplotlib>=1.4.3->seaborn==0.9.0) (2.8.2)\n",
            "Requirement already satisfied: six in /usr/local/lib/python3.7/dist-packages (from cycler>=0.10->matplotlib>=1.4.3->seaborn==0.9.0) (1.15.0)\n",
            "Requirement already satisfied: pytz>=2017.2 in /usr/local/lib/python3.7/dist-packages (from pandas>=0.15.2->seaborn==0.9.0) (2018.9)\n"
          ]
        }
      ]
    },
    {
      "cell_type": "code",
      "metadata": {
        "colab": {
          "base_uri": "https://localhost:8080/",
          "height": 403
        },
        "id": "xKYIgTZHbY4x",
        "outputId": "0e3003a5-b65a-4aa0-c24c-40cffecef9a5"
      },
      "source": [
        "import seaborn as sns\n",
        "print(sns.__version__)\n",
        "\n",
        "sns.relplot(x='age',y='gender', data=df)\n",
        "sns.barplot(x='age',y='score',hue='gender' data=df)\n",
        "\n",
        "\n"
      ],
      "execution_count": null,
      "outputs": [
        {
          "output_type": "stream",
          "name": "stdout",
          "text": [
            "0.9.0\n"
          ]
        },
        {
          "output_type": "execute_result",
          "data": {
            "text/plain": [
              "<seaborn.axisgrid.FacetGrid at 0x7f6caded7590>"
            ]
          },
          "metadata": {},
          "execution_count": 22
        },
        {
          "output_type": "display_data",
          "data": {
            "image/png": "[encoded data removed]",
            "text/plain": [
              "<Figure size 360x360 with 1 Axes>"
            ]
          },
          "metadata": {}
        }
      ]
    },
    {
      "cell_type": "code",
      "metadata": {
        "id": "AS_aOsLAc3Tm"
      },
      "source": [
        "result = load_exp_result('exp1')\n",
        "sns.barplot(x='n_layer',y='test_acc',hue='hid_dim' data=result)\n",
        "\n"
      ],
      "execution_count": null,
      "outputs": []
    },
    {
      "cell_type": "code",
      "metadata": {
        "colab": {
          "base_uri": "https://localhost:8080/",
          "height": 264
        },
        "id": "9wgGOshkeIOi",
        "outputId": "5e0cba95-22c3-4db2-d8ad-75a2306b48d7"
      },
      "source": [
        "import matplotlib.pyplot as plt\n",
        "\n",
        "df = load_exp_result('exp1')\n",
        "\n",
        "fig, ax = plt.subplots(1,3)\n",
        "fig.set_size_inches(12,4)\n",
        "sns.barplot(x='n_layer',y='test_acc',hue='hid_dim', data=df, ax=ax[0])\n",
        "sns.barplot(x='n_layer',y='val_acc',hue='hid_dim' ,data=df, ax=ax[1])\n",
        "sns.barplot(x='n_layer',y='val_acc',hue='hid_dim' ,data=df, ax=ax[2])\n",
        "\n"
      ],
      "execution_count": null,
      "outputs": [
        {
          "output_type": "execute_result",
          "data": {
            "text/plain": [
              "<matplotlib.axes._subplots.AxesSubplot at 0x7f6ca28e7ed0>"
            ]
          },
          "metadata": {},
          "execution_count": 25
        },
        {
          "output_type": "display_data",
          "data": {
            "image/png": "[encoded data removed]",
            "text/plain": [
              "<Figure size 864x288 with 3 Axes>"
            ]
          },
          "metadata": {}
        }
      ]
    },
    {
      "cell_type": "code",
      "metadata": {
        "colab": {
          "base_uri": "https://localhost:8080/"
        },
        "id": "7mm_NVeie0j_",
        "outputId": "0f6db9d4-e18e-4938-c69d-fd56745f1ffd"
      },
      "source": [
        "\n",
        "# ====== Random Seed Initialization ====== #\n",
        "seed = 123\n",
        "np.random.seed(seed)\n",
        "torch.manual_seed(seed)\n",
        "\n",
        "parser = argparse.ArgumentParser()\n",
        "args = parser.parse_args(\"\")\n",
        "args.exp_name = \"exp2_lr_dropout\"\n",
        "\n",
        "# ====== Model Capacity ====== #\n",
        "args.n_layer = 3 \n",
        "args.in_dim = 3072\n",
        "args.out_dim = 10\n",
        "args.hid_dim = 100\n",
        "args.act = 'relu'\n",
        "\n",
        "# ====== Regularization ======= #\n",
        "args.dropout = 0.2\n",
        "args.use_bn = True\n",
        "args.l2 = 0.00001\n",
        "args.use_xavier = True\n",
        "\n",
        "# ====== Optimizer & Training ====== #\n",
        "args.optim = 'RMSprop' #'RMSprop' #SGD, RMSprop, ADAM...\n",
        "args.lr = 0.0015\n",
        "args.epoch = 10\n",
        "\n",
        "args.train_batch_size = 256\n",
        "args.test_batch_size = 1024\n",
        "\n",
        "# ====== Experiment Variable ====== #\n",
        "name_var1 = 'lr'\n",
        "name_var2 = 'dropout'\n",
        "list_var1 = [0.001, 0.01, 0.1]\n",
        "list_var2 = [0,1,0.3]\n",
        "\n",
        "\n",
        "for var1 in list_var1:\n",
        "    for var2 in list_var2:\n",
        "        setattr(args, name_var1, var1)\n",
        "        setattr(args, name_var2, var2)\n",
        "        print(args)\n",
        "                \n",
        "        setting, result = experiment(partition, deepcopy(args))\n",
        "        save_exp_result(setting, result)"
      ],
      "execution_count": null,
      "outputs": [
        {
          "output_type": "stream",
          "name": "stdout",
          "text": [
            "Namespace(act='relu', dropout=0, epoch=10, exp_name='exp2_lr_dropout', hid_dim=100, in_dim=3072, l2=1e-05, lr=0.001, n_layer=3, optim='RMSprop', out_dim=10, test_batch_size=1024, train_batch_size=256, use_bn=True, use_xavier=True)\n",
            "Epoch 0, Acc(train/val): 39.65/40.87, Loss(train/val) 1.69/1.65. Took 10.95 sec\n",
            "Epoch 1, Acc(train/val): 47.47/44.08, Loss(train/val) 1.47/1.58. Took 10.92 sec\n",
            "Epoch 2, Acc(train/val): 50.85/45.50, Loss(train/val) 1.38/1.56. Took 10.89 sec\n",
            "Epoch 3, Acc(train/val): 53.63/46.94, Loss(train/val) 1.30/1.50. Took 10.91 sec\n",
            "Epoch 4, Acc(train/val): 55.57/46.95, Loss(train/val) 1.24/1.54. Took 10.97 sec\n",
            "Epoch 5, Acc(train/val): 57.43/47.61, Loss(train/val) 1.19/1.49. Took 10.86 sec\n",
            "Epoch 6, Acc(train/val): 59.00/48.31, Loss(train/val) 1.15/1.49. Took 10.81 sec\n",
            "Epoch 7, Acc(train/val): 60.59/48.39, Loss(train/val) 1.11/1.50. Took 11.05 sec\n",
            "Epoch 8, Acc(train/val): 61.90/47.49, Loss(train/val) 1.07/1.58. Took 10.92 sec\n",
            "Epoch 9, Acc(train/val): 63.32/49.53, Loss(train/val) 1.03/1.54. Took 10.85 sec\n",
            "Namespace(act='relu', dropout=1, epoch=10, exp_name='exp2_lr_dropout', hid_dim=100, in_dim=3072, l2=1e-05, lr=0.001, n_layer=3, optim='RMSprop', out_dim=10, test_batch_size=1024, train_batch_size=256, use_bn=True, use_xavier=True)\n",
            "Epoch 0, Acc(train/val): 10.13/9.49, Loss(train/val) 2.30/2.30. Took 10.89 sec\n",
            "Epoch 1, Acc(train/val): 10.06/9.49, Loss(train/val) 2.30/2.30. Took 11.00 sec\n",
            "Epoch 2, Acc(train/val): 10.09/9.49, Loss(train/val) 2.30/2.30. Took 10.86 sec\n",
            "Epoch 3, Acc(train/val): 9.95/9.49, Loss(train/val) 2.30/2.30. Took 10.96 sec\n",
            "Epoch 4, Acc(train/val): 10.07/9.49, Loss(train/val) 2.30/2.30. Took 10.86 sec\n",
            "Epoch 5, Acc(train/val): 10.06/9.49, Loss(train/val) 2.30/2.30. Took 10.88 sec\n"
          ]
        }
      ]
    },
    {
      "cell_type": "code",
      "metadata": {
        "id": "gSdWDZzAg-U5"
      },
      "source": [
        ""
      ],
      "execution_count": null,
      "outputs": []
    }
  ]
}