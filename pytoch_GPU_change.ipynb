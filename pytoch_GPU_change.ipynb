{
  "nbformat": 4,
  "nbformat_minor": 0,
  "metadata": {
    "colab": {
      "name": "pytoch_GPU_change.ipynb",
      "provenance": [],
      "collapsed_sections": [],
      "include_colab_link": true
    },
    "kernelspec": {
      "display_name": "Python (comet2)",
      "language": "python",
      "name": "comet2"
    },
    "language_info": {
      "codemirror_mode": {
        "name": "ipython",
        "version": 3
      },
      "file_extension": ".py",
      "mimetype": "text/x-python",
      "name": "python",
      "nbconvert_exporter": "python",
      "pygments_lexer": "ipython3",
      "version": "3.6.7"
    }
  },
  "cells": [
    {
      "cell_type": "markdown",
      "metadata": {
        "id": "view-in-github",
        "colab_type": "text"
      },
      "source": [
        "<a href=\"https://colab.research.google.com/github/godlejr/PytorchSkeleton/blob/main/pytoch_GPU_change.ipynb\" target=\"_parent\"><img src=\"https://colab.research.google.com/assets/colab-badge.svg\" alt=\"Open In Colab\"/></a>"
      ]
    },
    {
      "cell_type": "markdown",
      "metadata": {
        "id": "KkPAbbua80q4"
      },
      "source": [
        "### Install Pytorch 1.0 (For Google Colab)"
      ]
    },
    {
      "cell_type": "code",
      "metadata": {
        "id": "gXfchyhI80q6",
        "colab": {
          "base_uri": "https://localhost:8080/"
        },
        "outputId": "352cc101-43be-4e67-888a-3701105c7b09"
      },
      "source": [
        "#구글 Colab에서 실행할 때는 이 주석을 해제하시고 실행해서 pytorch 1.0을 깔아주세요!\n",
        "!pip install -q torch==1.0.0 torchvision\n",
        "import torch\n",
        "print(torch.__version__)\n"
      ],
      "execution_count": null,
      "outputs": [
        {
          "output_type": "stream",
          "name": "stdout",
          "text": [
            "\u001b[K     |████████████████████████████████| 591.8 MB 638 bytes/s \n",
            "\u001b[K     |████████████████████████████████| 23.3 MB 72.8 MB/s \n",
            "\u001b[K     |████████████████████████████████| 22.1 MB 57.9 MB/s \n",
            "\u001b[K     |████████████████████████████████| 22.1 MB 1.3 MB/s \n",
            "\u001b[K     |████████████████████████████████| 17.4 MB 127 kB/s \n",
            "\u001b[K     |████████████████████████████████| 17.3 MB 15 kB/s \n",
            "\u001b[K     |████████████████████████████████| 12.8 MB 20 kB/s \n",
            "\u001b[K     |████████████████████████████████| 12.7 MB 88 kB/s \n",
            "\u001b[K     |████████████████████████████████| 11.8 MB 9.2 MB/s \n",
            "\u001b[K     |████████████████████████████████| 5.9 MB 16.7 MB/s \n",
            "\u001b[K     |████████████████████████████████| 6.6 MB 11.9 MB/s \n",
            "\u001b[K     |████████████████████████████████| 6.6 MB 28.3 MB/s \n",
            "\u001b[K     |████████████████████████████████| 4.0 MB 42.0 MB/s \n",
            "\u001b[K     |████████████████████████████████| 10.2 MB 12.3 MB/s \n",
            "\u001b[K     |████████████████████████████████| 10.1 MB 15.1 MB/s \n",
            "\u001b[K     |████████████████████████████████| 8.8 MB 6.6 MB/s \n",
            "\u001b[K     |████████████████████████████████| 2.6 MB 60.3 MB/s \n",
            "\u001b[K     |████████████████████████████████| 64 kB 2.0 MB/s \n",
            "\u001b[31mERROR: pip's dependency resolver does not currently take into account all the packages that are installed. This behaviour is the source of the following dependency conflicts.\n",
            "torchtext 0.10.0 requires torch==1.9.0, but you have torch 1.0.0 which is incompatible.\u001b[0m\n",
            "\u001b[?25h1.0.0\n"
          ]
        }
      ]
    },
    {
      "cell_type": "markdown",
      "metadata": {
        "id": "23sQEXhSfY4I"
      },
      "source": [
        "### 1. Data Preparation"
      ]
    },
    {
      "cell_type": "markdown",
      "metadata": {
        "id": "h3tzDHCR80rG"
      },
      "source": [
        "**Data Set**  \n",
        "$$X_{train} \\in \\mathcal{R}^{50000 \\times 784}, Y_{train} \\in \\mathcal{Z}^{50000}$$  \n",
        "$$X_{val} \\in \\mathcal{R}^{10000 \\times 784}, Y_{val} \\in \\mathcal{Z}^{10000}$$  \n",
        "$$X_{test} \\in \\mathcal{R}^{10000 \\times 784}, Y_{test} \\in \\mathcal{Z}^{10000}$$"
      ]
    },
    {
      "cell_type": "code",
      "metadata": {
        "id": "k5wVYBO_80rI",
        "colab": {
          "base_uri": "https://localhost:8080/"
        },
        "outputId": "d4e0a353-9d70-488b-eb47-4d5367d1d45c"
      },
      "source": [
        "import torch\n",
        "from torchvision import datasets, transforms\n",
        "import torch.nn as nn\n",
        "\n",
        "\n",
        "batch_size = 128\n",
        "train_dataset = datasets.MNIST('./data', train=True, download=True,\n",
        "                   transform=transforms.Compose([\n",
        "                       transforms.ToTensor(),\n",
        "                       transforms.Normalize((0.1307,), (0.3081,))\n",
        "                   ]))\n",
        "test_dataset =  datasets.MNIST('./data', train=False, download=True,\n",
        "                   transform=transforms.Compose([\n",
        "                       transforms.ToTensor(),\n",
        "                       transforms.Normalize((0.1307,), (0.3081,))\n",
        "                   ]))\n",
        "train_dataset, val_dataset = torch.utils.data.random_split(train_dataset, [50000, 10000])\n",
        "print(len(train_dataset), len(val_dataset), len(test_dataset))\n",
        "\n",
        "train_loader = torch.utils.data.DataLoader(train_dataset, batch_size=128, shuffle=True)\n",
        "val_loader = torch.utils.data.DataLoader(val_dataset, batch_size=128, shuffle=False)\n",
        "test_loader = torch.utils.data.DataLoader(test_dataset, batch_size=128, shuffle=False)"
      ],
      "execution_count": null,
      "outputs": [
        {
          "output_type": "stream",
          "name": "stdout",
          "text": [
            "Downloading http://yann.lecun.com/exdb/mnist/train-images-idx3-ubyte.gz to ./data/MNIST/raw/train-images-idx3-ubyte.gz\n"
          ]
        },
        {
          "output_type": "stream",
          "name": "stderr",
          "text": [
            "9920512it [00:02, 3560329.59it/s]                             \n"
          ]
        },
        {
          "output_type": "stream",
          "name": "stdout",
          "text": [
            "Extracting ./data/MNIST/raw/train-images-idx3-ubyte.gz\n",
            "Downloading http://yann.lecun.com/exdb/mnist/train-labels-idx1-ubyte.gz to ./data/MNIST/raw/train-labels-idx1-ubyte.gz\n"
          ]
        },
        {
          "output_type": "stream",
          "name": "stderr",
          "text": [
            "32768it [00:00, 554392.75it/s]\n"
          ]
        },
        {
          "output_type": "stream",
          "name": "stdout",
          "text": [
            "Extracting ./data/MNIST/raw/train-labels-idx1-ubyte.gz\n",
            "Downloading http://yann.lecun.com/exdb/mnist/t10k-images-idx3-ubyte.gz to ./data/MNIST/raw/t10k-images-idx3-ubyte.gz\n"
          ]
        },
        {
          "output_type": "stream",
          "name": "stderr",
          "text": [
            "1654784it [00:00, 3191585.30it/s]                             \n"
          ]
        },
        {
          "output_type": "stream",
          "name": "stdout",
          "text": [
            "Extracting ./data/MNIST/raw/t10k-images-idx3-ubyte.gz\n",
            "Downloading http://yann.lecun.com/exdb/mnist/t10k-labels-idx1-ubyte.gz to ./data/MNIST/raw/t10k-labels-idx1-ubyte.gz\n"
          ]
        },
        {
          "output_type": "stream",
          "name": "stderr",
          "text": [
            "8192it [00:00, 158358.05it/s]\n"
          ]
        },
        {
          "output_type": "stream",
          "name": "stdout",
          "text": [
            "Extracting ./data/MNIST/raw/t10k-labels-idx1-ubyte.gz\n",
            "Processing...\n",
            "Done!\n",
            "50000 10000 10000\n"
          ]
        }
      ]
    },
    {
      "cell_type": "markdown",
      "metadata": {
        "id": "qzGVqYx880rP"
      },
      "source": [
        "### Inspecting Dataset"
      ]
    },
    {
      "cell_type": "code",
      "metadata": {
        "id": "QEhzwhKx80rQ",
        "colab": {
          "base_uri": "https://localhost:8080/",
          "height": 416
        },
        "outputId": "0365088d-15bf-4b52-bea0-058e92a048a6"
      },
      "source": [
        "examples = enumerate(train_loader)\n",
        "batch_idx, (example_data, example_targets) = next(examples)  \n",
        "\n",
        "import matplotlib.pyplot as plt\n",
        "\n",
        "fig = plt.figure(figsize=(15, 9))\n",
        "for i in range(6):\n",
        "    plt.subplot(2,3,i+1)\n",
        "    plt.tight_layout()\n",
        "    plt.imshow(example_data[i][0], cmap='gray', interpolation='none')\n",
        "    plt.title(\"Ground Truth: {}\".format(example_targets[i]))\n",
        "plt.show()"
      ],
      "execution_count": null,
      "outputs": [
        {
          "output_type": "display_data",
          "data": {
            "image/png": "[encoded data removed]",
            "text/plain": [
              "<Figure size 1080x648 with 6 Axes>"
            ]
          },
          "metadata": {
            "needs_background": "light"
          }
        }
      ]
    },
    {
      "cell_type": "markdown",
      "metadata": {
        "id": "lEqtbTROlXuB"
      },
      "source": [
        "### 2. Model Architecture"
      ]
    },
    {
      "cell_type": "code",
      "metadata": {
        "id": "2mZ0JgMx9QIC"
      },
      "source": [
        ""
      ],
      "execution_count": null,
      "outputs": []
    },
    {
      "cell_type": "code",
      "metadata": {
        "id": "40ht43Q1JpYI"
      },
      "source": [
        "class LinearModel(nn.Module):\n",
        "    def __init__(self): \n",
        "        super(LinearModel, self).__init__()\n",
        "        self.linear = nn.Linear(in_features=784, out_features=10, bias=True)\n",
        "    \n",
        "    def forward(self, x):\n",
        "        x = self.linear(x)\n",
        "        return x"
      ],
      "execution_count": null,
      "outputs": []
    },
    {
      "cell_type": "markdown",
      "metadata": {
        "id": "FgdSvskSotgI"
      },
      "source": [
        "### 3. Cost Function Define (Loss Function Define)  "
      ]
    },
    {
      "cell_type": "code",
      "metadata": {
        "id": "yzNkZ_uwnufC"
      },
      "source": [
        "cls_loss = nn.CrossEntropyLoss()"
      ],
      "execution_count": null,
      "outputs": []
    },
    {
      "cell_type": "markdown",
      "metadata": {
        "id": "vS9ROfxA80rX"
      },
      "source": [
        "### 4. Train & Evaluation"
      ]
    },
    {
      "cell_type": "code",
      "metadata": {
        "scrolled": false,
        "id": "LVcW1Kvj80rd",
        "colab": {
          "base_uri": "https://localhost:8080/"
        },
        "outputId": "8166726f-e1a0-4e34-fcb4-b2d5fc874837"
      },
      "source": [
        "import torch.optim as optim\n",
        "from sklearn.metrics import accuracy_score\n",
        "\n",
        "# ====== Construct Model ====== #\n",
        "model = LinearModel()\n",
        "print(torch.cuda.is_available())\n",
        "device =  'cuda:0' if torch.cuda.is_available() else 'cpu'\n",
        "model.to(device)\n",
        "print('Number of {} parameters'.format(sum(p.numel() for p in model.parameters() if p.requires_grad)))\n",
        "\n",
        "# ===== Construct Optimizer ====== #\n",
        "lr = 0.005 \n",
        "optimizer = optim.SGD(model.parameters(), lr=lr) \n",
        "\n",
        "list_epoch = [] \n",
        "list_train_loss = []\n",
        "list_val_loss = []\n",
        "list_acc = []\n",
        "list_acc_epoch = []\n",
        "\n",
        "import time\n",
        "\n",
        "epoch = 30\n",
        "for i in range(epoch):\n",
        "    ts = time.time()\n",
        "    # ====== Train ====== #\n",
        "    train_loss = 0\n",
        "    model.train() \n",
        "    \n",
        "    for input_X, true_y in train_loader:\n",
        "        optimizer.zero_grad() # [21.01.05 오류 수정] 매 Epoch 마다 .zero_grad()가 실행되는 것을 매 iteration 마다 실행되도록 수정했습니다. \n",
        "\n",
        "        input_X = input_X.squeeze()\n",
        "        input_X = input_X.view(-1, 784)\n",
        " \n",
        "        input_X = input_X.to(device)\n",
        "        true_y = true_y.to(device)\n",
        "        pred_y = model(input_X)\n",
        "\n",
        "        loss = cls_loss(pred_y.squeeze(), true_y)\n",
        "        loss.backward() \n",
        "        optimizer.step() \n",
        "        train_loss += loss.item()\n",
        "    train_loss = train_loss / len(train_loader)\n",
        "    list_train_loss.append(train_loss)\n",
        "    list_epoch.append(i)\n",
        "    \n",
        "    \n",
        "    # ====== Validation ====== #\n",
        "    val_loss = 0\n",
        "    model.eval()\n",
        "    # optimizer.zero_grad() [21.01.05 코드 클린업] 아래 torch.no_grad()가 호출되고 Validation 과정에서는 Optimizer를 사용하지 않으므로 굳이 호출될 필요가 없습니다. \n",
        "    \n",
        "    with torch.no_grad(): # [21.01.05 코드 클린업] Validation 과정에서 그라디언트가 활용되지 않도록 torch.no_grad() statement 안에서 코드를 실행합니다.\n",
        "        for input_X, true_y in val_loader:\n",
        "            input_X = input_X.squeeze()\n",
        "            input_X = input_X.view(-1, 784)\n",
        "            input_X = input_X.to(device)\n",
        "            true_y = true_y.to(device)\n",
        "            pred_y = model(input_X)\n",
        "\n",
        "            loss = cls_loss(pred_y.squeeze(), true_y)\n",
        "            val_loss += loss.item()\n",
        "        val_loss = val_loss / len(val_loader)\n",
        "        list_val_loss.append(val_loss)\n",
        "\n",
        "\n",
        "    # ====== Evaluation ======= #\n",
        "    correct = 0\n",
        "    model.eval()\n",
        "    # optimizer.zero_grad() [21.01.05 코드 클린업] 아래 torch.no_grad()가 호출되고 Evaluation 과정에서는 Optimizer를 사용하지 않으므로 굳이 호출될 필요가 없습니다. \n",
        "\n",
        "    with torch.no_grad(): # [21.01.05 코드 클린업] Evaluation 과정에서 그라디언트가 활용되지 않도록 torch.no_grad() statement 안에서 코드를 실행합니다.\n",
        "        for input_X, true_y in test_loader:\n",
        "            input_X = input_X.squeeze()\n",
        "            input_X = input_X.view(-1, 784)\n",
        "            input_X = input_X.to(device)\n",
        "            true_y = true_y.to(device)\n",
        "            pred_y = model(input_X).max(1, keepdim=True)[1].squeeze()\n",
        "            correct += pred_y.eq(true_y).sum()\n",
        "\n",
        "        acc = correct.item() / len(test_loader.dataset)\n",
        "        list_acc.append(acc)\n",
        "        list_acc_epoch.append(i)\n",
        "    \n",
        "    te = time.time()\n",
        "    td = te - ts\n",
        "    print('Epoch: {}, Train Loss: {}, Val Loss: {}, Test Acc: {}%, {:3.1f}'.format(i, train_loss, val_loss, acc*100,td))"
      ],
      "execution_count": null,
      "outputs": [
        {
          "output_type": "stream",
          "name": "stdout",
          "text": [
            "False\n",
            "Number of 7850 parameters\n",
            "Epoch: 0, Train Loss: 0.755496268991924, Val Loss: 0.5037541819524162, Test Acc: 87.97%, 8.3\n",
            "Epoch: 1, Train Loss: 0.4366338272076434, Val Loss: 0.4294894279181203, Test Acc: 89.56%, 8.5\n",
            "Epoch: 2, Train Loss: 0.38716141639463125, Val Loss: 0.39745601973956146, Test Acc: 90.14999999999999%, 8.6\n",
            "Epoch: 3, Train Loss: 0.3627955314067319, Val Loss: 0.38014340362971344, Test Acc: 90.51%, 8.3\n",
            "Epoch: 4, Train Loss: 0.347190706854891, Val Loss: 0.3684453192768218, Test Acc: 90.78%, 8.3\n",
            "Epoch: 5, Train Loss: 0.336320338727873, Val Loss: 0.3597030677372896, Test Acc: 91.08000000000001%, 8.3\n",
            "Epoch: 6, Train Loss: 0.3278192295823866, Val Loss: 0.35350995614558833, Test Acc: 91.14%, 8.4\n",
            "Epoch: 7, Train Loss: 0.3212290630697289, Val Loss: 0.3483499848767172, Test Acc: 91.18%, 8.3\n",
            "Epoch: 8, Train Loss: 0.3158987525212186, Val Loss: 0.3446267877198473, Test Acc: 91.32000000000001%, 8.4\n",
            "Epoch: 9, Train Loss: 0.3113861664786668, Val Loss: 0.3411630120458482, Test Acc: 91.4%, 8.5\n",
            "Epoch: 10, Train Loss: 0.30753574373624515, Val Loss: 0.33692131483856635, Test Acc: 91.59%, 8.4\n",
            "Epoch: 11, Train Loss: 0.30406285201192207, Val Loss: 0.33550618060781984, Test Acc: 91.53%, 8.5\n",
            "Epoch: 12, Train Loss: 0.30084703184302203, Val Loss: 0.33248437903349914, Test Acc: 91.64%, 8.3\n",
            "Epoch: 13, Train Loss: 0.2982618974145416, Val Loss: 0.3307119289153739, Test Acc: 91.67999999999999%, 8.5\n",
            "Epoch: 14, Train Loss: 0.29603780950884073, Val Loss: 0.328731456323515, Test Acc: 91.73%, 8.4\n",
            "Epoch: 15, Train Loss: 0.2939079046401831, Val Loss: 0.3271847350310676, Test Acc: 91.78%, 8.4\n",
            "Epoch: 16, Train Loss: 0.29199262031966156, Val Loss: 0.32591183502462845, Test Acc: 91.83%, 8.5\n",
            "Epoch: 17, Train Loss: 0.2900557787064701, Val Loss: 0.32434080182751523, Test Acc: 91.85%, 8.6\n",
            "Epoch: 18, Train Loss: 0.2885033070202679, Val Loss: 0.32319622930092146, Test Acc: 91.82000000000001%, 8.3\n",
            "Epoch: 19, Train Loss: 0.2866991211081405, Val Loss: 0.32320061156266855, Test Acc: 91.89%, 8.4\n",
            "Epoch: 20, Train Loss: 0.28556879783225486, Val Loss: 0.321144488038896, Test Acc: 91.84%, 8.3\n",
            "Epoch: 21, Train Loss: 0.28399739020011006, Val Loss: 0.32058837387380723, Test Acc: 91.91%, 8.4\n",
            "Epoch: 22, Train Loss: 0.28254967020905536, Val Loss: 0.319953796229785, Test Acc: 91.82000000000001%, 8.4\n",
            "Epoch: 23, Train Loss: 0.2815625995702451, Val Loss: 0.31912164729607256, Test Acc: 91.95%, 8.6\n",
            "Epoch: 24, Train Loss: 0.280483335104135, Val Loss: 0.31766210854807986, Test Acc: 91.96%, 8.4\n",
            "Epoch: 25, Train Loss: 0.2793080425628311, Val Loss: 0.31702652781070034, Test Acc: 92.06%, 8.3\n",
            "Epoch: 26, Train Loss: 0.2783503300698517, Val Loss: 0.31691412495661386, Test Acc: 91.94%, 8.4\n",
            "Epoch: 27, Train Loss: 0.27744706346631964, Val Loss: 0.3168595784072635, Test Acc: 91.88%, 8.4\n",
            "Epoch: 28, Train Loss: 0.2767387692199644, Val Loss: 0.3152596486520164, Test Acc: 92.04%, 8.5\n",
            "Epoch: 29, Train Loss: 0.27574557351791645, Val Loss: 0.3147238055361977, Test Acc: 92.08%, 8.5\n"
          ]
        }
      ]
    },
    {
      "cell_type": "markdown",
      "metadata": {
        "id": "Lc7n1rQi80rm"
      },
      "source": [
        "### 5. Report Experiment  "
      ]
    },
    {
      "cell_type": "code",
      "metadata": {
        "scrolled": true,
        "id": "nT9Gvceu80rp",
        "outputId": "a0f8d230-5550-49b0-ce1e-530876172981"
      },
      "source": [
        "fig = plt.figure(figsize=(15,5))\n",
        "\n",
        "# ====== Loss Fluctuation ====== #\n",
        "ax1 = fig.add_subplot(1, 2, 1)\n",
        "ax1.plot(list_epoch, list_train_loss, label='train_loss')\n",
        "ax1.plot(list_epoch, list_val_loss, '--', label='val_loss')\n",
        "ax1.set_xlabel('epoch')\n",
        "ax1.set_ylabel('loss')\n",
        "ax1.grid()\n",
        "ax1.legend()\n",
        "ax1.set_title('epoch vs loss')\n",
        "\n",
        "# ====== Metric Fluctuation ====== #\n",
        "ax2 = fig.add_subplot(1, 2, 2)\n",
        "ax2.plot(list_acc_epoch, list_acc, marker='x', label='Accuracy metric')\n",
        "ax2.set_xlabel('epoch')\n",
        "ax2.set_ylabel('Acc')\n",
        "ax2.grid()\n",
        "ax2.legend()\n",
        "ax2.set_title('epoch vs Accuracy')\n",
        "\n",
        "plt.show()"
      ],
      "execution_count": null,
      "outputs": [
        {
          "data": {
            "image/png": "[encoded data removed]",
            "text/plain": [
              "<Figure size 1080x360 with 2 Axes>"
            ]
          },
          "metadata": {
            "needs_background": "light"
          },
          "output_type": "display_data"
        }
      ]
    }
  ]
}