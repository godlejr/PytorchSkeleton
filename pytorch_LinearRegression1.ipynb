{
  "nbformat": 4,
  "nbformat_minor": 0,
  "metadata": {
    "colab": {
      "name": "pytorch_LinearRegression1.ipynb",
      "provenance": [],
      "collapsed_sections": [],
      "authorship_tag": "ABX9TyMU+7SZmVu6nFrniGJzlgCo",
      "include_colab_link": true
    },
    "kernelspec": {
      "name": "python3",
      "display_name": "Python 3"
    },
    "language_info": {
      "name": "python"
    }
  },
  "cells": [
    {
      "cell_type": "markdown",
      "metadata": {
        "id": "view-in-github",
        "colab_type": "text"
      },
      "source": [
        "<a href=\"https://colab.research.google.com/github/godlejr/PytorchSkeleton/blob/main/pytorch_LinearRegression1.ipynb\" target=\"_parent\"><img src=\"https://colab.research.google.com/assets/colab-badge.svg\" alt=\"Open In Colab\"/></a>"
      ]
    },
    {
      "cell_type": "code",
      "metadata": {
        "id": "VPFxrcFR0HGg"
      },
      "source": [
        "X = list(range(10))\n",
        "Y = [1,1,2,4,5,7,8,9,9,10]"
      ],
      "execution_count": null,
      "outputs": []
    },
    {
      "cell_type": "code",
      "metadata": {
        "colab": {
          "base_uri": "https://localhost:8080/",
          "height": 282
        },
        "id": "NjNewK7v1Qoe",
        "outputId": "e66d2f3b-f380-4a7d-f8ac-fb7f5d4e72c7"
      },
      "source": [
        "import matplotlib.pyplot as plt\n",
        "\n",
        "plt.plot(X,Y)\n",
        "#or\n",
        "plt.scatter(X,Y)"
      ],
      "execution_count": null,
      "outputs": [
        {
          "output_type": "execute_result",
          "data": {
            "text/plain": [
              "<matplotlib.collections.PathCollection at 0x7f853c709750>"
            ]
          },
          "metadata": {},
          "execution_count": 6
        },
        {
          "output_type": "display_data",
          "data": {
            "image/png": "[encoded data removed]",
            "text/plain": [
              "<Figure size 432x288 with 1 Axes>"
            ]
          },
          "metadata": {
            "needs_background": "light"
          }
        }
      ]
    },
    {
      "cell_type": "code",
      "metadata": {
        "colab": {
          "base_uri": "https://localhost:8080/"
        },
        "id": "DLkidMZJ1WAZ",
        "outputId": "c57dd613-1056-45a1-d0c7-5d21f697bc80"
      },
      "source": [
        "class H(): \n",
        "  def __init__(self, w):\n",
        "    self.w = w\n",
        "  \n",
        "  def forward(self,x):\n",
        "    return self.w * x \n",
        "  \n",
        "\n",
        "\n",
        "def cost(h,X,Y):\n",
        "  error = 0\n",
        "  for i in range(len(X)):\n",
        "    error += (h.forward(X[i]) - Y[i])**2\n",
        "\n",
        "  error = error / len(X)\n",
        "  return error \n",
        "    \n",
        "\n",
        "h= H(4)\n",
        "cost(h,X,Y)    \n",
        "  "
      ],
      "execution_count": null,
      "outputs": [
        {
          "output_type": "execute_result",
          "data": {
            "text/plain": [
              "222.2"
            ]
          },
          "metadata": {},
          "execution_count": 36
        }
      ]
    },
    {
      "cell_type": "code",
      "metadata": {
        "colab": {
          "base_uri": "https://localhost:8080/",
          "height": 187
        },
        "id": "FoEeShW718VO",
        "outputId": "bea0b6fc-1238-4c87-ccbf-69538d9cb9ae"
      },
      "source": [
        "list_w = []\n",
        "list_c = []\n",
        "\n",
        "for i in range(-100,100):\n",
        "  w = i* 0.1\n",
        "  h = H(w)\n",
        "  c = cost(h,X,Y)\n",
        "  list_w.append(w)\n",
        "  list_c.append(c)\n",
        "\n",
        "print(list_w)\n",
        "print(list_c)\n",
        "\n",
        "plt.figure(figsize=(1,1))\n",
        "plt.xlabel('W')\n",
        "plt.ylabel('Cost')\n",
        "\n",
        "plt.scatter(list_w, list_c, s=0.1) #X,Y \n"
      ],
      "execution_count": null,
      "outputs": [
        {
          "output_type": "stream",
          "name": "stdout",
          "text": [
            "[-10.0, -9.9, -9.8, -9.700000000000001, -9.600000000000001, -9.5, -9.4, -9.3, -9.200000000000001, -9.1, -9.0, -8.9, -8.8, -8.700000000000001, -8.6, -8.5, -8.4, -8.3, -8.200000000000001, -8.1, -8.0, -7.9, -7.800000000000001, -7.7, -7.6000000000000005, -7.5, -7.4, -7.300000000000001, -7.2, -7.1000000000000005, -7.0, -6.9, -6.800000000000001, -6.7, -6.6000000000000005, -6.5, -6.4, -6.300000000000001, -6.2, -6.1000000000000005, -6.0, -5.9, -5.800000000000001, -5.7, -5.6000000000000005, -5.5, -5.4, -5.300000000000001, -5.2, -5.1000000000000005, -5.0, -4.9, -4.800000000000001, -4.7, -4.6000000000000005, -4.5, -4.4, -4.3, -4.2, -4.1000000000000005, -4.0, -3.9000000000000004, -3.8000000000000003, -3.7, -3.6, -3.5, -3.4000000000000004, -3.3000000000000003, -3.2, -3.1, -3.0, -2.9000000000000004, -2.8000000000000003, -2.7, -2.6, -2.5, -2.4000000000000004, -2.3000000000000003, -2.2, -2.1, -2.0, -1.9000000000000001, -1.8, -1.7000000000000002, -1.6, -1.5, -1.4000000000000001, -1.3, -1.2000000000000002, -1.1, -1.0, -0.9, -0.8, -0.7000000000000001, -0.6000000000000001, -0.5, -0.4, -0.30000000000000004, -0.2, -0.1, 0.0, 0.1, 0.2, 0.30000000000000004, 0.4, 0.5, 0.6000000000000001, 0.7000000000000001, 0.8, 0.9, 1.0, 1.1, 1.2000000000000002, 1.3, 1.4000000000000001, 1.5, 1.6, 1.7000000000000002, 1.8, 1.9000000000000001, 2.0, 2.1, 2.2, 2.3000000000000003, 2.4000000000000004, 2.5, 2.6, 2.7, 2.8000000000000003, 2.9000000000000004, 3.0, 3.1, 3.2, 3.3000000000000003, 3.4000000000000004, 3.5, 3.6, 3.7, 3.8000000000000003, 3.9000000000000004, 4.0, 4.1000000000000005, 4.2, 4.3, 4.4, 4.5, 4.6000000000000005, 4.7, 4.800000000000001, 4.9, 5.0, 5.1000000000000005, 5.2, 5.300000000000001, 5.4, 5.5, 5.6000000000000005, 5.7, 5.800000000000001, 5.9, 6.0, 6.1000000000000005, 6.2, 6.300000000000001, 6.4, 6.5, 6.6000000000000005, 6.7, 6.800000000000001, 6.9, 7.0, 7.1000000000000005, 7.2, 7.300000000000001, 7.4, 7.5, 7.6000000000000005, 7.7, 7.800000000000001, 7.9, 8.0, 8.1, 8.200000000000001, 8.3, 8.4, 8.5, 8.6, 8.700000000000001, 8.8, 8.9, 9.0, 9.1, 9.200000000000001, 9.3, 9.4, 9.5, 9.600000000000001, 9.700000000000001, 9.8, 9.9]\n",
            "[3582.2, 3518.5850000000005, 3455.540000000001, 3393.065000000001, 3331.160000000001, 3269.825, 3209.0600000000004, 3148.8650000000002, 3089.2400000000007, 3030.185, 2971.7, 2913.7850000000008, 2856.44, 2799.6650000000004, 2743.4599999999996, 2687.825, 2632.7600000000007, 2578.2650000000003, 2524.340000000001, 2470.9849999999997, 2418.2, 2365.9850000000006, 2314.34, 2263.265, 2212.76, 2162.825, 2113.4600000000005, 2064.6650000000004, 2016.4399999999998, 1968.7850000000005, 1921.7, 1875.1850000000002, 1829.2400000000002, 1783.8650000000002, 1739.0600000000002, 1694.825, 1651.1600000000003, 1608.065, 1565.54, 1523.5850000000003, 1482.2, 1441.3850000000002, 1401.14, 1361.4650000000001, 1322.3600000000001, 1283.825, 1245.8600000000001, 1208.4650000000004, 1171.64, 1135.3850000000002, 1099.7, 1064.585, 1030.0400000000002, 996.0650000000002, 962.6600000000002, 929.825, 897.5600000000002, 865.8649999999998, 834.7400000000001, 804.1850000000002, 774.2, 744.7850000000001, 715.94, 687.6650000000001, 659.96, 632.825, 606.26, 580.2650000000001, 554.8399999999999, 529.985, 505.7, 481.985, 458.84000000000003, 436.265, 414.26000000000005, 392.825, 371.9600000000001, 351.6650000000001, 331.94, 312.785, 294.2, 276.18500000000006, 258.74, 241.86500000000007, 225.56000000000003, 209.825, 194.66000000000003, 180.065, 166.04000000000002, 152.585, 139.7, 127.38500000000002, 115.64000000000001, 104.465, 93.86000000000001, 83.825, 74.35999999999999, 65.465, 57.14000000000001, 49.385000000000005, 42.2, 35.585, 29.540000000000003, 24.064999999999998, 19.16, 14.825, 11.059999999999997, 7.864999999999999, 5.239999999999998, 3.185, 1.7, 0.7849999999999995, 0.4399999999999996, 0.6650000000000005, 1.4600000000000015, 2.825, 4.7600000000000025, 7.265000000000003, 10.34, 13.985000000000005, 18.2, 22.985000000000007, 28.34000000000001, 34.26500000000002, 40.760000000000026, 47.825, 55.460000000000015, 63.66500000000002, 72.44000000000003, 81.78500000000003, 91.7, 102.18500000000002, 113.24000000000004, 124.86500000000004, 137.06000000000003, 149.825, 163.16000000000003, 177.06500000000005, 191.54000000000002, 206.58500000000004, 222.2, 238.38500000000013, 255.14000000000004, 272.4649999999999, 290.36, 308.825, 327.8600000000001, 347.46500000000003, 367.6400000000001, 388.3850000000001, 409.7, 431.58500000000015, 454.03999999999996, 477.06500000000017, 500.66000000000014, 524.825, 549.5600000000002, 574.865, 600.7400000000001, 627.1850000000002, 654.2, 681.7850000000001, 709.94, 738.6650000000002, 767.9600000000002, 797.825, 828.2600000000002, 859.2650000000001, 890.8400000000001, 922.985, 955.7, 988.9850000000002, 1022.8399999999999, 1057.265, 1092.2600000000002, 1127.825, 1163.9600000000003, 1200.665, 1237.94, 1275.7850000000003, 1314.2, 1353.185, 1392.7400000000005, 1432.8650000000002, 1473.5600000000002, 1514.825, 1556.6599999999996, 1599.0650000000003, 1642.0400000000002, 1685.5850000000003, 1729.7, 1774.3849999999998, 1819.64, 1865.4650000000001, 1911.8600000000001, 1958.825, 2006.3600000000006, 2054.4650000000006, 2103.1400000000003, 2152.385]\n"
          ]
        },
        {
          "output_type": "execute_result",
          "data": {
            "text/plain": [
              "<matplotlib.collections.PathCollection at 0x7f8538243f90>"
            ]
          },
          "metadata": {},
          "execution_count": 44
        },
        {
          "output_type": "display_data",
          "data": {
            "image/png": "[encoded data removed]",
            "text/plain": [
              "<Figure size 72x72 with 1 Axes>"
            ]
          },
          "metadata": {
            "needs_background": "light"
          }
        }
      ]
    },
    {
      "cell_type": "code",
      "metadata": {
        "colab": {
          "base_uri": "https://localhost:8080/",
          "height": 282
        },
        "id": "EFD94pv-6RNx",
        "outputId": "19ce3252-5aa1-4610-89d5-f1847335937b"
      },
      "source": [
        "def cal_grad(w, cost):\n",
        "  h = H(w)\n",
        "\n",
        "  cost1 = cost(h,X,Y)\n",
        "  eps = 0.0001\n",
        "\n",
        "  h = H(w + eps) \n",
        "  cost2 = cost(h,X,Y)\n",
        "\n",
        "  delta_cost = cost2 - cost1\n",
        "\n",
        "  dw = eps\n",
        "\n",
        "  grad = delta_cost / dw\n",
        "\n",
        "  return grad, (cost1+ cost2)*0.5 #mean of cost\n",
        "\n",
        "def cal_grad2(w, cost):\n",
        "  h = H(w)\n",
        "  grad = 0\n",
        "  for i in range(len(X)):\n",
        "    grad += 2 *(h.forward(X[i]) - Y[i]) * X[i]\n",
        "  \n",
        "  grad = grad / len(X)\n",
        "  cost = cost(h,X,Y)\n",
        "  return grad, cost\n",
        "\n",
        "\n",
        "w1 = 1.4\n",
        "w2 = 1.4\n",
        "lr = 0.1\n",
        "\n",
        "list_w1 = []\n",
        "list_c1 = []\n",
        "list_w2 = []\n",
        "list_c2 = []\n",
        "\n",
        "for i in range(100):\n",
        "  grad, mean_cost = cal_grad(w, cost)\n",
        "  grad2, mean_cost2 = cal_grad2(w, cost)\n",
        "\n",
        "  w1 -= lr* grad\n",
        "  w2 -= lr* grad2\n",
        "\n",
        "  list_w1.append(w1)\n",
        "  list_w2.append(w2)\n",
        "\n",
        "  list_c1.append(mean_cost)\n",
        "  list_c2.append(mean_cost2)\n",
        "\n",
        "plt.scatter(list_w1, list_c1)\n",
        "plt.scatter(list_w2, list_c2)\n",
        "\n"
      ],
      "execution_count": null,
      "outputs": [
        {
          "output_type": "execute_result",
          "data": {
            "text/plain": [
              "<matplotlib.collections.PathCollection at 0x7f8538126450>"
            ]
          },
          "metadata": {},
          "execution_count": 63
        },
        {
          "output_type": "display_data",
          "data": {
            "image/png": "[encoded data removed]",
            "text/plain": [
              "<Figure size 432x288 with 1 Axes>"
            ]
          },
          "metadata": {
            "needs_background": "light"
          }
        }
      ]
    },
    {
      "cell_type": "code",
      "metadata": {
        "id": "oRFuvsz79A7q"
      },
      "source": [
        ""
      ],
      "execution_count": null,
      "outputs": []
    }
  ]
}